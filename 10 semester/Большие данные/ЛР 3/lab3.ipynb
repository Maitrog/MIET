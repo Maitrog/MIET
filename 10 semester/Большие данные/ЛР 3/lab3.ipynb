{
  "nbformat": 4,
  "nbformat_minor": 0,
  "metadata": {
    "colab": {
      "provenance": []
    },
    "kernelspec": {
      "name": "python3",
      "display_name": "Python 3"
    },
    "language_info": {
      "name": "python"
    }
  },
  "cells": [
    {
      "cell_type": "markdown",
      "metadata": {
        "id": "3F6EniKCL1SA"
      },
      "source": [
        "# *Лабораторная работа №3*"
      ]
    },
    {
      "cell_type": "markdown",
      "metadata": {
        "id": "XvxPwR4NMOJ2"
      },
      "source": [
        "## Классификация изображений (Теоретическая часть)"
      ]
    },
    {
      "cell_type": "markdown",
      "metadata": {
        "id": "ukH2Bge3Ty70"
      },
      "source": [
        "Подключим все необходимые библиотеки."
      ]
    },
    {
      "cell_type": "code",
      "metadata": {
        "id": "UOAQJjZaMZY1"
      },
      "source": [
        "from zipfile import ZipFile\n",
        "import numpy as np\n",
        "import pandas as pd\n",
        "import matplotlib.pyplot as plt\n",
        "import cv2\n",
        "import tensorflow as tf\n",
        "from PIL import Image\n",
        "import os\n",
        "import keras\n",
        "from sklearn.model_selection import train_test_split\n",
        "from keras.utils import to_categorical\n",
        "from keras.models import Sequential, load_model\n",
        "from keras.layers import Conv2D, MaxPool2D, Dense, Flatten, Dropout\n",
        "from tensorflow.keras.preprocessing.image import ImageDataGenerator"
      ],
      "execution_count": null,
      "outputs": []
    },
    {
      "cell_type": "markdown",
      "metadata": {
        "id": "FfX9w0c0T47I"
      },
      "source": [
        "Загрузим датасет в среду выполнения."
      ]
    },
    {
      "cell_type": "code",
      "metadata": {
        "id": "qTBoJr1aucdd"
      },
      "source": [
        "%%capture\n",
        "!wget https://www.dropbox.com/s/7xi7of75tbuouo2/Meta.zip"
      ],
      "execution_count": null,
      "outputs": []
    },
    {
      "cell_type": "markdown",
      "metadata": {
        "id": "eVyT4rKwUJSY"
      },
      "source": [
        "Распакуем все данные для дальнейшей работы."
      ]
    },
    {
      "cell_type": "code",
      "metadata": {
        "id": "H2cloln20Dfz"
      },
      "source": [
        "zip = ZipFile('Meta.zip')\n",
        "zip.extractall()"
      ],
      "execution_count": null,
      "outputs": []
    },
    {
      "cell_type": "markdown",
      "metadata": {
        "id": "BtqbyWYIUPyV"
      },
      "source": [
        "Укажем основные пути к папкам и введем масштаб, к которому будем приводить все изображения датасета."
      ]
    },
    {
      "cell_type": "code",
      "metadata": {
        "id": "mfTBgDDoxhP5"
      },
      "source": [
        "data_dir = '/content/'\n",
        "train_path = '/content/Train'\n",
        "\n",
        "height = 30\n",
        "width = 30\n",
        "channels = 3"
      ],
      "execution_count": null,
      "outputs": []
    },
    {
      "cell_type": "markdown",
      "metadata": {
        "id": "TV5HsUxDUf1z"
      },
      "source": [
        "Создадим массивы для хранения изображений и их категорий. Дополнительно рассмотрим общее количество категорий в данном датасете."
      ]
    },
    {
      "cell_type": "code",
      "metadata": {
        "colab": {
          "base_uri": "https://localhost:8080/"
        },
        "id": "rHuU2lGRufgD",
        "outputId": "f3b2e0ab-3559-4bc9-fec5-dac5ea091ed2"
      },
      "source": [
        "data = []\n",
        "labels = []\n",
        "NUM_CATEGORIES = len(os.listdir(train_path))\n",
        "NUM_CATEGORIES"
      ],
      "execution_count": null,
      "outputs": [
        {
          "output_type": "execute_result",
          "data": {
            "text/plain": [
              "43"
            ]
          },
          "metadata": {
            "tags": []
          },
          "execution_count": 6
        }
      ]
    },
    {
      "cell_type": "markdown",
      "metadata": {
        "id": "A_lc8XZaUrcQ"
      },
      "source": [
        "Заполним массивы изображений и меток классов."
      ]
    },
    {
      "cell_type": "code",
      "metadata": {
        "id": "qSI0tBhpuiKA"
      },
      "source": [
        "for i in range(NUM_CATEGORIES):\n",
        "    path = os.path.join(train_path,str(i))\n",
        "    images = os.listdir(path)\n",
        "    for a in images:\n",
        "            image = Image.open(path + '/' + a)\n",
        "            image = image.resize((height,width))\n",
        "            image = np.array(image)\n",
        "            data.append(image)\n",
        "            labels.append(i)\n",
        "\n",
        "data = np.array(data)\n",
        "labels = np.array(labels)"
      ],
      "execution_count": null,
      "outputs": []
    },
    {
      "cell_type": "markdown",
      "metadata": {
        "id": "kFsNi700U0RB"
      },
      "source": [
        "Разобьем данные на тренировочную и тестовую выборки в рамках обучения нейронной сети. Также проведем нормализацию в процессе."
      ]
    },
    {
      "cell_type": "code",
      "metadata": {
        "colab": {
          "base_uri": "https://localhost:8080/"
        },
        "id": "c5yj3to9uk1O",
        "outputId": "cbd57b96-a3b3-49e8-e9c4-7b3fe611bacc"
      },
      "source": [
        "print(data.shape,labels.shape)\n",
        "\n",
        "X_train, X_test, Y_train, Y_test = train_test_split(data,labels,test_size=0.2,random_state=42, shuffle=True)\n",
        "\n",
        "X_train = X_train/255\n",
        "X_test = X_test/255\n",
        "\n",
        "print(X_train.shape,X_test.shape,Y_train.shape,Y_test.shape)"
      ],
      "execution_count": null,
      "outputs": [
        {
          "output_type": "stream",
          "text": [
            "(39209, 30, 30, 3) (39209,)\n",
            "(31367, 30, 30, 3) (7842, 30, 30, 3) (31367,) (7842,)\n"
          ],
          "name": "stdout"
        }
      ]
    },
    {
      "cell_type": "code",
      "metadata": {
        "colab": {
          "base_uri": "https://localhost:8080/"
        },
        "id": "9ehZWs4Ouner",
        "outputId": "b2d677a2-4ddd-445b-a782-99c4c619b3b9"
      },
      "source": [
        "Y_train=keras.utils.to_categorical(Y_train,NUM_CATEGORIES)\n",
        "Y_test= keras.utils.to_categorical(Y_test,NUM_CATEGORIES)\n",
        "\n",
        "print(Y_train.shape)\n",
        "print(Y_test.shape)"
      ],
      "execution_count": null,
      "outputs": [
        {
          "output_type": "stream",
          "text": [
            "(31367, 43)\n",
            "(7842, 43)\n"
          ],
          "name": "stdout"
        }
      ]
    },
    {
      "cell_type": "markdown",
      "metadata": {
        "id": "ZbwftF_dVLP1"
      },
      "source": [
        "Создадим модель, состоящую из последовательно идущих слоев:\n",
        "\n",
        "*   Свертка (32 фильтра 3х3)\n",
        "*   Свертка (32 фильтра 3х3)\n",
        "*   Субдискретизация (фильтр max 2х2)\n",
        "*   Свертка (64 фильтра 3х3)\n",
        "*   Свертка (64 фильтра 3х3)\n",
        "*   Субдискретизация (фильтр max 2х2)\n",
        "*   Полносвязный слой (512 нейронов)\n",
        "*   Полносвязный слой (*количество_категорий* нейронов)\n",
        "\n",
        "Кроме того введем выключение части нейронов для предотвращения переобучения.\n"
      ]
    },
    {
      "cell_type": "code",
      "metadata": {
        "colab": {
          "base_uri": "https://localhost:8080/"
        },
        "id": "1Of7P7CNusHa",
        "outputId": "2d532d37-c279-4099-f127-e25395afb3b8"
      },
      "source": [
        "model = Sequential()\n",
        "\n",
        "model.add(Conv2D(filters=32, kernel_size=(3,3), activation='relu', input_shape=(height,width,3)))\n",
        "model.add(Conv2D(filters=32, kernel_size=(3,3), activation='relu'))\n",
        "model.add(MaxPool2D(pool_size=(2, 2)))\n",
        "model.add(Dropout(rate=0.25))\n",
        "\n",
        "model.add(Conv2D(filters=64, kernel_size=(3, 3), activation='relu'))\n",
        "model.add(Conv2D(filters=64, kernel_size=(3, 3), activation='relu'))\n",
        "model.add(MaxPool2D(pool_size=(2, 2)))\n",
        "model.add(Dropout(rate=0.25))\n",
        "\n",
        "model.add(Flatten())\n",
        "model.add(Dense(512, activation='relu'))\n",
        "model.add(Dropout(rate=0.5))\n",
        "model.add(Dense(NUM_CATEGORIES, activation='softmax'))\n",
        "\n",
        "model.summary()"
      ],
      "execution_count": null,
      "outputs": [
        {
          "output_type": "stream",
          "text": [
            "Model: \"sequential\"\n",
            "_________________________________________________________________\n",
            "Layer (type)                 Output Shape              Param #   \n",
            "=================================================================\n",
            "conv2d (Conv2D)              (None, 28, 28, 32)        896       \n",
            "_________________________________________________________________\n",
            "conv2d_1 (Conv2D)            (None, 26, 26, 32)        9248      \n",
            "_________________________________________________________________\n",
            "max_pooling2d (MaxPooling2D) (None, 13, 13, 32)        0         \n",
            "_________________________________________________________________\n",
            "dropout (Dropout)            (None, 13, 13, 32)        0         \n",
            "_________________________________________________________________\n",
            "conv2d_2 (Conv2D)            (None, 11, 11, 64)        18496     \n",
            "_________________________________________________________________\n",
            "conv2d_3 (Conv2D)            (None, 9, 9, 64)          36928     \n",
            "_________________________________________________________________\n",
            "max_pooling2d_1 (MaxPooling2 (None, 4, 4, 64)          0         \n",
            "_________________________________________________________________\n",
            "dropout_1 (Dropout)          (None, 4, 4, 64)          0         \n",
            "_________________________________________________________________\n",
            "flatten (Flatten)            (None, 1024)              0         \n",
            "_________________________________________________________________\n",
            "dense (Dense)                (None, 512)               524800    \n",
            "_________________________________________________________________\n",
            "dropout_2 (Dropout)          (None, 512)               0         \n",
            "_________________________________________________________________\n",
            "dense_1 (Dense)              (None, 43)                22059     \n",
            "=================================================================\n",
            "Total params: 612,427\n",
            "Trainable params: 612,427\n",
            "Non-trainable params: 0\n",
            "_________________________________________________________________\n"
          ],
          "name": "stdout"
        }
      ]
    },
    {
      "cell_type": "markdown",
      "metadata": {
        "id": "li4WURPjWLXd"
      },
      "source": [
        "Скомпилируем созданную модель."
      ]
    },
    {
      "cell_type": "code",
      "metadata": {
        "id": "79TK3m0lusEj"
      },
      "source": [
        "model.compile(loss='categorical_crossentropy', optimizer='adam', metrics=['accuracy'])"
      ],
      "execution_count": null,
      "outputs": []
    },
    {
      "cell_type": "markdown",
      "metadata": {
        "id": "0saI2c1GWZ7T"
      },
      "source": [
        "Зададим функцию аугментации, чтобы незначительно изменять изображения для искусственного расширения набора данных при обучении."
      ]
    },
    {
      "cell_type": "code",
      "metadata": {
        "id": "3kZ5h3jDusBp"
      },
      "source": [
        "aug = ImageDataGenerator(\n",
        "    rotation_range=10,\n",
        "    zoom_range=0.15,\n",
        "    width_shift_range=0.1,\n",
        "    height_shift_range=0.1,\n",
        "    shear_range=0.15,\n",
        "    horizontal_flip=False,\n",
        "    vertical_flip=False,\n",
        "    fill_mode=\"nearest\")"
      ],
      "execution_count": null,
      "outputs": []
    },
    {
      "cell_type": "markdown",
      "metadata": {
        "id": "3g1hdPUoWlz-"
      },
      "source": [
        "Задаим размер пакета обучения равным 32 и количсество эпох равным 15."
      ]
    },
    {
      "cell_type": "code",
      "metadata": {
        "colab": {
          "base_uri": "https://localhost:8080/"
        },
        "id": "naq0-Z72ur-y",
        "outputId": "7409fe05-b7ac-4630-f3db-402861dd4960"
      },
      "source": [
        "batch_size = 32\n",
        "epochs = 15\n",
        "\n",
        "history = model.fit(aug.flow(X_train,Y_train,batch_size=batch_size),\n",
        "                    epochs=epochs, validation_data=(X_test, Y_test) )"
      ],
      "execution_count": null,
      "outputs": [
        {
          "output_type": "stream",
          "text": [
            "Epoch 1/15\n",
            "981/981 [==============================] - 110s 111ms/step - loss: 2.6487 - accuracy: 0.2583 - val_loss: 0.3674 - val_accuracy: 0.8792\n",
            "Epoch 2/15\n",
            "981/981 [==============================] - 111s 113ms/step - loss: 0.6714 - accuracy: 0.7850 - val_loss: 0.0841 - val_accuracy: 0.9782\n",
            "Epoch 3/15\n",
            "981/981 [==============================] - 111s 113ms/step - loss: 0.3432 - accuracy: 0.8915 - val_loss: 0.0441 - val_accuracy: 0.9880\n",
            "Epoch 4/15\n",
            "981/981 [==============================] - 114s 117ms/step - loss: 0.2264 - accuracy: 0.9301 - val_loss: 0.0192 - val_accuracy: 0.9941\n",
            "Epoch 5/15\n",
            "981/981 [==============================] - 111s 113ms/step - loss: 0.1883 - accuracy: 0.9399 - val_loss: 0.0186 - val_accuracy: 0.9966\n",
            "Epoch 6/15\n",
            "981/981 [==============================] - 110s 113ms/step - loss: 0.1508 - accuracy: 0.9545 - val_loss: 0.0169 - val_accuracy: 0.9946\n",
            "Epoch 7/15\n",
            "981/981 [==============================] - 111s 113ms/step - loss: 0.1297 - accuracy: 0.9611 - val_loss: 0.0119 - val_accuracy: 0.9971\n",
            "Epoch 8/15\n",
            "981/981 [==============================] - 111s 113ms/step - loss: 0.1197 - accuracy: 0.9640 - val_loss: 0.0147 - val_accuracy: 0.9958\n",
            "Epoch 9/15\n",
            "981/981 [==============================] - 112s 114ms/step - loss: 0.1014 - accuracy: 0.9694 - val_loss: 0.0178 - val_accuracy: 0.9941\n",
            "Epoch 10/15\n",
            "981/981 [==============================] - 111s 113ms/step - loss: 0.0976 - accuracy: 0.9704 - val_loss: 0.0114 - val_accuracy: 0.9963\n",
            "Epoch 11/15\n",
            "981/981 [==============================] - 111s 113ms/step - loss: 0.0983 - accuracy: 0.9712 - val_loss: 0.0069 - val_accuracy: 0.9969\n",
            "Epoch 12/15\n",
            "981/981 [==============================] - 111s 113ms/step - loss: 0.0875 - accuracy: 0.9742 - val_loss: 0.0097 - val_accuracy: 0.9974\n",
            "Epoch 13/15\n",
            "981/981 [==============================] - 111s 114ms/step - loss: 0.0838 - accuracy: 0.9749 - val_loss: 0.0076 - val_accuracy: 0.9976\n",
            "Epoch 14/15\n",
            "981/981 [==============================] - 111s 113ms/step - loss: 0.0809 - accuracy: 0.9761 - val_loss: 0.0078 - val_accuracy: 0.9978\n",
            "Epoch 15/15\n",
            "981/981 [==============================] - 111s 113ms/step - loss: 0.0720 - accuracy: 0.9786 - val_loss: 0.0066 - val_accuracy: 0.9978\n"
          ],
          "name": "stdout"
        }
      ]
    },
    {
      "cell_type": "markdown",
      "metadata": {
        "id": "F7SgFa0oW0HH"
      },
      "source": [
        "Выведем графики изменения точности и величины функции ошибки в процессе обучения модели."
      ]
    },
    {
      "cell_type": "code",
      "metadata": {
        "colab": {
          "base_uri": "https://localhost:8080/",
          "height": 573
        },
        "id": "9_ow7HG6ur71",
        "outputId": "525d8efe-48fa-4d4f-9ad9-52335ef5e9a6"
      },
      "source": [
        "plt.figure(0)\n",
        "plt.plot(history.history['accuracy'], label='training accuracy')\n",
        "plt.plot(history.history['val_accuracy'], label='val accuracy')\n",
        "plt.title('Accuracy')\n",
        "plt.xlabel('epochs')\n",
        "plt.ylabel('accuracy')\n",
        "plt.legend()\n",
        "plt.show()\n",
        "\n",
        "plt.figure(1)\n",
        "plt.plot(history.history['loss'], label='training loss')\n",
        "plt.plot(history.history['val_loss'], label='val loss')\n",
        "plt.title('Loss')\n",
        "plt.xlabel('epochs')\n",
        "plt.ylabel('loss')\n",
        "plt.legend()\n",
        "plt.show()"
      ],
      "execution_count": null,
      "outputs": [
        {
          "output_type": "display_data",
          "data": {
            "image/png": "[encoded data removed]",
            "text/plain": [
              "<Figure size 432x288 with 1 Axes>"
            ]
          },
          "metadata": {
            "tags": [],
            "needs_background": "light"
          }
        },
        {
          "output_type": "display_data",
          "data": {
            "image/png": "[encoded data removed]",
            "text/plain": [
              "<Figure size 432x288 with 1 Axes>"
            ]
          },
          "metadata": {
            "tags": [],
            "needs_background": "light"
          }
        }
      ]
    },
    {
      "cell_type": "markdown",
      "metadata": {
        "id": "sM4ge-22XCjp"
      },
      "source": [
        "Повторим все действия, которые мы делали для подготовки тренировочного набора данных, для тестовых данных."
      ]
    },
    {
      "cell_type": "code",
      "metadata": {
        "id": "NsdaSwQ0ur3D"
      },
      "source": [
        "test = pd.read_csv(data_dir + 'Test.csv')\n",
        "\n",
        "labels = test[\"ClassId\"].values\n",
        "images = test[\"Path\"].values\n",
        "\n",
        "data=[]\n",
        "\n",
        "for a in images:\n",
        "  image = Image.open(data_dir + '/' + a)\n",
        "  image = image.resize((height,width))\n",
        "  image = np.array(image)\n",
        "  data.append(image)"
      ],
      "execution_count": null,
      "outputs": []
    },
    {
      "cell_type": "code",
      "metadata": {
        "id": "gSIB8mn3u6qZ"
      },
      "source": [
        "X_pred = np.array(data)\n",
        "X_pred = X_pred/255"
      ],
      "execution_count": null,
      "outputs": []
    },
    {
      "cell_type": "markdown",
      "metadata": {
        "id": "h-lq49pDXV6T"
      },
      "source": [
        "Получим предсказание величин для тестовой выборки."
      ]
    },
    {
      "cell_type": "code",
      "metadata": {
        "colab": {
          "base_uri": "https://localhost:8080/"
        },
        "id": "LbkPa0SPu6oc",
        "outputId": "338173ae-e313-403d-ae7c-ebd2a0c05b9d"
      },
      "source": [
        "pred = model.predict_classes(X_pred)"
      ],
      "execution_count": null,
      "outputs": [
        {
          "output_type": "stream",
          "text": [
            "/usr/local/lib/python3.7/dist-packages/tensorflow/python/keras/engine/sequential.py:450: UserWarning: `model.predict_classes()` is deprecated and will be removed after 2021-01-01. Please use instead:* `np.argmax(model.predict(x), axis=-1)`,   if your model does multi-class classification   (e.g. if it uses a `softmax` last-layer activation).* `(model.predict(x) > 0.5).astype(\"int32\")`,   if your model does binary classification   (e.g. if it uses a `sigmoid` last-layer activation).\n",
            "  warnings.warn('`model.predict_classes()` is deprecated and '\n"
          ],
          "name": "stderr"
        }
      ]
    },
    {
      "cell_type": "markdown",
      "metadata": {
        "id": "EaQQKdJHXo6F"
      },
      "source": [
        "Выведем величину метрики точности для тестового набора данных."
      ]
    },
    {
      "cell_type": "code",
      "metadata": {
        "colab": {
          "base_uri": "https://localhost:8080/"
        },
        "id": "yWuEZiXru6l6",
        "outputId": "ec42ae5e-e8b0-4be3-8484-9b950e200051"
      },
      "source": [
        "from sklearn.metrics import accuracy_score\n",
        "\n",
        "print('Test Data accuracy: ',accuracy_score(labels, pred)*100)"
      ],
      "execution_count": null,
      "outputs": [
        {
          "output_type": "stream",
          "text": [
            "Test Data accuracy:  98.36896278701505\n"
          ],
          "name": "stdout"
        }
      ]
    },
    {
      "cell_type": "markdown",
      "metadata": {
        "id": "vThbBXK3Mb9P"
      },
      "source": [
        "## Классификация изображений (Практическая часть)"
      ]
    },
    {
      "cell_type": "markdown",
      "metadata": {
        "id": "BYyIbUBdSQWw"
      },
      "source": [
        "Вашей задачей в данной лабораторной будет построение модели мультиклассовой классификации медицинских изображений на основе сверточных нейронных сетей.\n",
        "\n",
        "https://www.kaggle.com/datasets/gennadiimanzhos/medical-mnist-train-test-val/data?select=train\n",
        "\n",
        "Ниже приведен блок кода для загрузки тренировочной, тестовой и валидационной выборки."
      ]
    },
    {
      "cell_type": "code",
      "metadata": {
        "id": "Q_FdF0o5u6go"
      },
      "source": [
        "%%capture\n",
        "!wget https://www.dropbox.com/scl/fi/x6hifnqqkuq1p33vr109s/Medical_train.zip?rlkey=vr1ob1xmj5bkfa2r21ef5uwnd&dl=0\n",
        "!wget https://www.dropbox.com/scl/fi/8n9q6au9qcnpiwtwtojkm/Medical_test.zip?rlkey=j42oncxl79hp0uvgz3gz66ev4&dl=0\n",
        "!wget https://www.dropbox.com/scl/fi/a17q72jelw3j7svdhsuiq/Medical_val.zip?rlkey=jo2bagqzwvq7uol2hw5lpjzmz&dl=0"
      ],
      "execution_count": null,
      "outputs": []
    },
    {
      "cell_type": "markdown",
      "metadata": {
        "id": "kN7b1lL1TiBj"
      },
      "source": [
        "Архитектура нейронной сети должна быть составлена самостоятельно и не содержать предобученных весов.\n",
        "\n",
        "Оценка полученного решения складывается из двух факторов:\n",
        "\n",
        "1. Значение метрики Accuracy_score.\n",
        "2. Общее время, которое потребовалось модели для предсказания всех меток из валидационного датасета."
      ]
    }
  ]
}