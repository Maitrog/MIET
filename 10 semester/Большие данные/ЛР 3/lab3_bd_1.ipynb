{
  "cells": [
    {
      "cell_type": "code",
      "execution_count": null,
      "metadata": {
        "id": "R1Y0sIpZVVvJ"
      },
      "outputs": [],
      "source": [
        "#%pip install --upgrade --force-reinstall opencv-python -q\n",
        "#%pip install --upgrade tensorflow -v --use-deprecated=legacy-resolver\n",
        "#%pip install --upgrade --force-reinstall -v tensorflow==2.15\n",
        "#%pip install --upgrade pillow -q --use-deprecated=legacy-resolver\n",
        "#%pip install --upgrade keras -q --use-deprecated=legacy-resolver\n",
        "#%pip install --upgrade tensorflow_datasets -q\n",
        "#%pip install --upgrade tfds-nightly\n",
        "#%pip install --force-reinstall -v protobuf==3.20.3"
      ]
    },
    {
      "cell_type": "code",
      "execution_count": 104,
      "metadata": {
        "ExecuteTime": {
          "end_time": "2024-02-14T12:30:32.034651Z",
          "start_time": "2024-02-14T12:30:30.492447Z"
        },
        "id": "05GeHZyaVVvK"
      },
      "outputs": [],
      "source": [
        "from zipfile import ZipFile\n",
        "import warnings\n",
        "import matplotlib.pyplot as plt\n",
        "import tensorflow as tf\n",
        "#import tensorflow.compat.v1 as tf\n",
        "import tensorflow_datasets as td\n",
        "from keras.models import Sequential\n",
        "from keras.optimizers import RMSprop\n",
        "from keras.layers import SeparableConv2D,Conv2D, MaxPool2D, Dense, Flatten, Dropout\n",
        "from tensorflow.keras.preprocessing.image import ImageDataGenerator\n",
        "from time import time"
      ]
    },
    {
      "cell_type": "code",
      "source": [
        "tf.compat.v1.enable_eager_execution()\n"
      ],
      "metadata": {
        "id": "WYM-x4w4L7fJ"
      },
      "execution_count": null,
      "outputs": []
    },
    {
      "cell_type": "code",
      "execution_count": 2,
      "metadata": {
        "ExecuteTime": {
          "end_time": "2024-02-14T12:30:32.070646Z",
          "start_time": "2024-02-14T12:30:32.035419Z"
        },
        "id": "OFxdtjMUVVvL"
      },
      "outputs": [],
      "source": [
        "warnings.simplefilter(action='ignore', category=FutureWarning)"
      ]
    },
    {
      "cell_type": "code",
      "execution_count": 55,
      "metadata": {
        "id": "JPD385-JVVvL"
      },
      "outputs": [],
      "source": [
        "width = 30\n",
        "height = 30\n",
        "batch_size = 128"
      ]
    },
    {
      "cell_type": "code",
      "source": [
        "from google.colab import drive\n",
        "drive.mount('/content/drive')"
      ],
      "metadata": {
        "colab": {
          "base_uri": "https://localhost:8080/"
        },
        "id": "cyVKSkwqc2KF",
        "outputId": "4e9fdd95-49d9-4cc1-9a15-f1edab5ee614"
      },
      "execution_count": 4,
      "outputs": [
        {
          "output_type": "stream",
          "name": "stdout",
          "text": [
            "Mounted at /content/drive\n"
          ]
        }
      ]
    },
    {
      "cell_type": "code",
      "source": [
        "zip = ZipFile('drive/MyDrive/data/archive (1).zip')\n",
        "zip.extractall('data')"
      ],
      "metadata": {
        "id": "H363YIG9n3Ra"
      },
      "execution_count": 5,
      "outputs": []
    },
    {
      "cell_type": "markdown",
      "metadata": {
        "id": "YZ_zmIjzVVvL"
      },
      "source": [
        "---"
      ]
    },
    {
      "cell_type": "code",
      "source": [
        "import shutil\n",
        "shutil.copytree('data/test', 'data/train', dirs_exist_ok=True)"
      ],
      "metadata": {
        "colab": {
          "base_uri": "https://localhost:8080/",
          "height": 35
        },
        "id": "0hI0OYDvt_2B",
        "outputId": "af49a5a6-7c59-442a-acb9-8f475c26a686"
      },
      "execution_count": 6,
      "outputs": [
        {
          "output_type": "execute_result",
          "data": {
            "text/plain": [
              "'data/train'"
            ],
            "application/vnd.google.colaboratory.intrinsic+json": {
              "type": "string"
            }
          },
          "metadata": {},
          "execution_count": 6
        }
      ]
    },
    {
      "cell_type": "code",
      "execution_count": 56,
      "metadata": {
        "id": "OWSNPn2YVVvM"
      },
      "outputs": [],
      "source": [
        "dataset_builder = td.ImageFolder(root_dir='./data', shape=(64, 64, 1))\n",
        "train = dataset_builder.as_dataset(split='train', shuffle_files=True, batch_size=batch_size, as_supervised=True)\n",
        "test = dataset_builder.as_dataset(split='val', shuffle_files=True, batch_size=batch_size, as_supervised=True)"
      ]
    },
    {
      "cell_type": "markdown",
      "metadata": {
        "id": "Lhq-osXQVVvM"
      },
      "source": [
        "---"
      ]
    },
    {
      "cell_type": "code",
      "execution_count": 59,
      "metadata": {
        "id": "j7x-4VwDVVvM"
      },
      "outputs": [],
      "source": [
        "def preprocess_image(image, label):\n",
        "    image = tf.image.resize(image, (height, width))\n",
        "    image = tf.cast(image, tf.float32) / 255.0\n",
        "    return image, label"
      ]
    },
    {
      "cell_type": "code",
      "execution_count": 60,
      "metadata": {
        "id": "N03rvT0JVVvM"
      },
      "outputs": [],
      "source": [
        "train = train.map(preprocess_image)\n",
        "test = test.map(preprocess_image)"
      ]
    },
    {
      "cell_type": "code",
      "source": [
        "model = Sequential()\n",
        "\n",
        "model.add(Conv2D(filters=30, kernel_size=(3, 3), activation='relu', input_shape=(height, width, 1), padding=\"same\"))\n",
        "model.add(MaxPool2D(pool_size=(3, 3)))\n",
        "model.add(Dropout(rate=0.1))\n",
        "model.add(Flatten())\n",
        "model.add(Dense(15, activation='tanh'))\n",
        "model.add(Dropout(rate=0.1))\n",
        "model.add(Dense(6, activation='softmax'))\n",
        "\n",
        "print(model.summary())"
      ],
      "metadata": {
        "colab": {
          "base_uri": "https://localhost:8080/"
        },
        "id": "688hJRpb34KH",
        "outputId": "b6649243-07c9-4944-f486-f9a9196d16a8"
      },
      "execution_count": 61,
      "outputs": [
        {
          "output_type": "stream",
          "name": "stdout",
          "text": [
            "Model: \"sequential_5\"\n",
            "_________________________________________________________________\n",
            " Layer (type)                Output Shape              Param #   \n",
            "=================================================================\n",
            " conv2d_11 (Conv2D)          (None, 30, 30, 30)        300       \n",
            "                                                                 \n",
            " max_pooling2d_8 (MaxPoolin  (None, 10, 10, 30)        0         \n",
            " g2D)                                                            \n",
            "                                                                 \n",
            " dropout_13 (Dropout)        (None, 10, 10, 30)        0         \n",
            "                                                                 \n",
            " flatten_4 (Flatten)         (None, 3000)              0         \n",
            "                                                                 \n",
            " dense_10 (Dense)            (None, 15)                45015     \n",
            "                                                                 \n",
            " dropout_14 (Dropout)        (None, 15)                0         \n",
            "                                                                 \n",
            " dense_11 (Dense)            (None, 6)                 96        \n",
            "                                                                 \n",
            "=================================================================\n",
            "Total params: 45411 (177.39 KB)\n",
            "Trainable params: 45411 (177.39 KB)\n",
            "Non-trainable params: 0 (0.00 Byte)\n",
            "_________________________________________________________________\n",
            "None\n"
          ]
        }
      ]
    },
    {
      "cell_type": "markdown",
      "metadata": {
        "id": "3CB96DwCVVvM"
      },
      "source": [
        "---"
      ]
    },
    {
      "cell_type": "code",
      "source": [
        "from tensorflow.keras.layers import MaxPooling2D, GlobalAveragePooling2D\n",
        "model = Sequential()\n",
        "\n",
        "model.add(Conv2D(filters = 16, kernel_size = (4,4),padding = 'Same', activation='relu',input_shape=(height, width, 1)))\n",
        "model.add(MaxPooling2D(pool_size=2))\n",
        "model.add(Dropout(0.1))\n",
        "\n",
        "model.add(Conv2D(filters = 32, kernel_size = (4,4),padding = 'Same', activation ='relu'))\n",
        "model.add(Conv2D(filters = 32, kernel_size = (4,4),padding = 'Same', activation ='relu'))\n",
        "model.add(MaxPooling2D(pool_size=2))\n",
        "model.add(Dropout(0.1))\n",
        "\n",
        "model.add(Conv2D(filters = 64, kernel_size = (3,3),padding = 'Same', activation ='relu'))\n",
        "model.add(Conv2D(filters = 64, kernel_size = (3,3),padding = 'Same', activation ='relu'))\n",
        "model.add(MaxPooling2D(pool_size=2))\n",
        "model.add(Dropout(0.1))\n",
        "\n",
        "\n",
        "model.add(Conv2D(filters = 128, kernel_size = (3,3),padding = 'Same', activation ='relu'))\n",
        "model.add(Conv2D(filters = 128, kernel_size = (3,3),padding = 'Same', activation ='relu'))\n",
        "model.add(MaxPooling2D(pool_size=2))\n",
        "model.add(Dropout(0.1))\n",
        "\n",
        "model.add(GlobalAveragePooling2D())\n",
        "\n",
        "model.add(Dense(16,activation='relu'))\n",
        "model.add(Dropout(0.1))\n",
        "model.add(Dense(6,activation='softmax'))"
      ],
      "metadata": {
        "id": "jBR9oVLZJw-T"
      },
      "execution_count": 25,
      "outputs": []
    },
    {
      "cell_type": "code",
      "execution_count": 62,
      "metadata": {
        "id": "MPc-5QHyVVvN"
      },
      "outputs": [],
      "source": [
        "model.compile(loss='sparse_categorical_crossentropy',\n",
        "              optimizer='adam',\n",
        "              metrics=['accuracy'])"
      ]
    },
    {
      "cell_type": "code",
      "execution_count": 68,
      "metadata": {
        "id": "DOXk48x1VVvO",
        "outputId": "c95c92c8-a868-42cd-b4a1-5c3780b45417",
        "colab": {
          "base_uri": "https://localhost:8080/"
        }
      },
      "outputs": [
        {
          "output_type": "stream",
          "name": "stdout",
          "text": [
            "Epoch 1/50\n",
            "415/415 [==============================] - 31s 75ms/step - loss: 5.2859e-04 - accuracy: 0.9999 - val_loss: 0.0017 - val_accuracy: 0.9995\n",
            "Epoch 2/50\n",
            "415/415 [==============================] - 32s 76ms/step - loss: 4.2346e-04 - accuracy: 0.9999 - val_loss: 0.0034 - val_accuracy: 0.9992\n",
            "Epoch 3/50\n",
            "415/415 [==============================] - 33s 80ms/step - loss: 5.6603e-04 - accuracy: 0.9998 - val_loss: 0.0019 - val_accuracy: 0.9998\n",
            "Epoch 4/50\n",
            "415/415 [==============================] - 31s 75ms/step - loss: 6.7147e-04 - accuracy: 0.9998 - val_loss: 0.0023 - val_accuracy: 0.9993\n",
            "Epoch 5/50\n",
            "415/415 [==============================] - 31s 75ms/step - loss: 3.7896e-04 - accuracy: 0.9999 - val_loss: 0.0024 - val_accuracy: 0.9993\n",
            "Epoch 6/50\n",
            "415/415 [==============================] - 31s 74ms/step - loss: 7.7433e-04 - accuracy: 0.9997 - val_loss: 0.0024 - val_accuracy: 0.9995\n",
            "Epoch 7/50\n",
            "415/415 [==============================] - 31s 74ms/step - loss: 3.3967e-04 - accuracy: 0.9999 - val_loss: 0.0020 - val_accuracy: 0.9993\n",
            "Epoch 8/50\n",
            "415/415 [==============================] - 31s 74ms/step - loss: 7.2076e-04 - accuracy: 0.9998 - val_loss: 0.0024 - val_accuracy: 0.9998\n",
            "Epoch 9/50\n",
            "415/415 [==============================] - 31s 74ms/step - loss: 3.7112e-04 - accuracy: 0.9999 - val_loss: 0.0019 - val_accuracy: 0.9997\n",
            "Epoch 10/50\n",
            "415/415 [==============================] - 31s 74ms/step - loss: 2.8747e-04 - accuracy: 0.9999 - val_loss: 0.0022 - val_accuracy: 0.9998\n",
            "Epoch 11/50\n",
            "415/415 [==============================] - 31s 74ms/step - loss: 4.6073e-04 - accuracy: 0.9999 - val_loss: 0.0022 - val_accuracy: 0.9997\n",
            "Epoch 12/50\n",
            "415/415 [==============================] - 32s 76ms/step - loss: 2.1708e-04 - accuracy: 1.0000 - val_loss: 0.0021 - val_accuracy: 0.9998\n",
            "Epoch 13/50\n",
            "415/415 [==============================] - 33s 79ms/step - loss: 2.7283e-04 - accuracy: 0.9999 - val_loss: 0.0014 - val_accuracy: 0.9995\n",
            "Epoch 14/50\n",
            "415/415 [==============================] - 33s 78ms/step - loss: 1.8740e-04 - accuracy: 0.9999 - val_loss: 0.0017 - val_accuracy: 0.9997\n",
            "Epoch 15/50\n",
            "415/415 [==============================] - 32s 76ms/step - loss: 3.8935e-04 - accuracy: 0.9999 - val_loss: 0.0041 - val_accuracy: 0.9993\n",
            "Epoch 16/50\n",
            "415/415 [==============================] - 31s 74ms/step - loss: 4.9941e-04 - accuracy: 0.9999 - val_loss: 0.0024 - val_accuracy: 0.9993\n",
            "Epoch 17/50\n",
            "415/415 [==============================] - 31s 74ms/step - loss: 2.2399e-04 - accuracy: 0.9999 - val_loss: 0.0020 - val_accuracy: 0.9992\n",
            "Epoch 18/50\n",
            "415/415 [==============================] - 32s 76ms/step - loss: 4.8866e-04 - accuracy: 0.9999 - val_loss: 0.0026 - val_accuracy: 0.9995\n",
            "Epoch 19/50\n",
            "415/415 [==============================] - 31s 74ms/step - loss: 2.2258e-04 - accuracy: 1.0000 - val_loss: 0.0038 - val_accuracy: 0.9993\n",
            "Epoch 20/50\n",
            "415/415 [==============================] - 31s 74ms/step - loss: 3.8291e-04 - accuracy: 0.9999 - val_loss: 0.0022 - val_accuracy: 0.9998\n",
            "Epoch 21/50\n",
            "415/415 [==============================] - 31s 75ms/step - loss: 1.4601e-04 - accuracy: 1.0000 - val_loss: 0.0025 - val_accuracy: 0.9997\n",
            "Epoch 22/50\n",
            "415/415 [==============================] - 31s 74ms/step - loss: 0.0020 - accuracy: 0.9994 - val_loss: 0.0023 - val_accuracy: 0.9995\n",
            "Epoch 23/50\n",
            "415/415 [==============================] - 31s 75ms/step - loss: 4.7999e-04 - accuracy: 0.9998 - val_loss: 0.0022 - val_accuracy: 0.9992\n",
            "Epoch 24/50\n",
            "415/415 [==============================] - 32s 77ms/step - loss: 1.6326e-04 - accuracy: 1.0000 - val_loss: 0.0026 - val_accuracy: 0.9993\n",
            "Epoch 25/50\n",
            "415/415 [==============================] - 31s 75ms/step - loss: 1.6633e-04 - accuracy: 0.9999 - val_loss: 0.0021 - val_accuracy: 0.9997\n",
            "Epoch 26/50\n",
            "415/415 [==============================] - 39s 93ms/step - loss: 2.2860e-04 - accuracy: 0.9999 - val_loss: 0.0015 - val_accuracy: 0.9995\n",
            "Epoch 27/50\n",
            "415/415 [==============================] - 31s 74ms/step - loss: 9.2481e-05 - accuracy: 1.0000 - val_loss: 0.0023 - val_accuracy: 0.9995\n",
            "Epoch 28/50\n",
            "415/415 [==============================] - 31s 75ms/step - loss: 1.2994e-04 - accuracy: 1.0000 - val_loss: 0.0031 - val_accuracy: 0.9992\n",
            "Epoch 29/50\n",
            "415/415 [==============================] - 31s 75ms/step - loss: 7.0324e-05 - accuracy: 1.0000 - val_loss: 0.0021 - val_accuracy: 0.9995\n",
            "Epoch 30/50\n",
            "415/415 [==============================] - 31s 75ms/step - loss: 1.0085e-04 - accuracy: 1.0000 - val_loss: 0.0019 - val_accuracy: 0.9995\n",
            "Epoch 31/50\n",
            "415/415 [==============================] - 31s 74ms/step - loss: 5.3992e-05 - accuracy: 1.0000 - val_loss: 0.0018 - val_accuracy: 0.9995\n",
            "Epoch 32/50\n",
            "415/415 [==============================] - 31s 74ms/step - loss: 3.7882e-04 - accuracy: 0.9999 - val_loss: 0.0039 - val_accuracy: 0.9992\n",
            "Epoch 33/50\n",
            "415/415 [==============================] - 31s 74ms/step - loss: 4.3247e-04 - accuracy: 0.9998 - val_loss: 0.0021 - val_accuracy: 0.9993\n",
            "Epoch 34/50\n",
            "415/415 [==============================] - 31s 75ms/step - loss: 4.6812e-04 - accuracy: 0.9999 - val_loss: 0.0030 - val_accuracy: 0.9993\n",
            "Epoch 35/50\n",
            "415/415 [==============================] - 30s 72ms/step - loss: 1.4448e-04 - accuracy: 1.0000 - val_loss: 0.0029 - val_accuracy: 0.9997\n",
            "Epoch 36/50\n",
            "415/415 [==============================] - 31s 74ms/step - loss: 5.4969e-04 - accuracy: 0.9998 - val_loss: 0.0050 - val_accuracy: 0.9990\n",
            "Epoch 37/50\n",
            "415/415 [==============================] - 31s 74ms/step - loss: 8.0193e-05 - accuracy: 1.0000 - val_loss: 0.0034 - val_accuracy: 0.9995\n",
            "Epoch 38/50\n",
            "415/415 [==============================] - 31s 74ms/step - loss: 8.4073e-05 - accuracy: 1.0000 - val_loss: 0.0030 - val_accuracy: 0.9997\n",
            "Epoch 39/50\n",
            "415/415 [==============================] - 31s 74ms/step - loss: 1.3353e-04 - accuracy: 1.0000 - val_loss: 0.0057 - val_accuracy: 0.9990\n",
            "Epoch 40/50\n",
            "415/415 [==============================] - 32s 77ms/step - loss: 2.2085e-04 - accuracy: 0.9999 - val_loss: 0.0032 - val_accuracy: 0.9993\n",
            "Epoch 41/50\n",
            "415/415 [==============================] - 31s 75ms/step - loss: 1.5298e-04 - accuracy: 1.0000 - val_loss: 0.0025 - val_accuracy: 0.9995\n",
            "Epoch 42/50\n",
            "415/415 [==============================] - 31s 75ms/step - loss: 4.1300e-05 - accuracy: 1.0000 - val_loss: 0.0026 - val_accuracy: 0.9995\n",
            "Epoch 43/50\n",
            "415/415 [==============================] - 31s 74ms/step - loss: 1.2716e-04 - accuracy: 1.0000 - val_loss: 0.0026 - val_accuracy: 0.9995\n",
            "Epoch 44/50\n",
            "415/415 [==============================] - 31s 74ms/step - loss: 5.6723e-05 - accuracy: 1.0000 - val_loss: 0.0027 - val_accuracy: 0.9995\n",
            "Epoch 45/50\n",
            "415/415 [==============================] - 31s 74ms/step - loss: 1.0073e-04 - accuracy: 1.0000 - val_loss: 0.0025 - val_accuracy: 0.9997\n",
            "Epoch 46/50\n",
            "415/415 [==============================] - 31s 74ms/step - loss: 3.4661e-04 - accuracy: 0.9999 - val_loss: 0.0025 - val_accuracy: 0.9995\n",
            "Epoch 47/50\n",
            "415/415 [==============================] - 31s 73ms/step - loss: 5.8794e-04 - accuracy: 0.9998 - val_loss: 0.0031 - val_accuracy: 0.9995\n",
            "Epoch 48/50\n",
            "415/415 [==============================] - 31s 73ms/step - loss: 1.5235e-04 - accuracy: 0.9999 - val_loss: 0.0030 - val_accuracy: 0.9992\n",
            "Epoch 49/50\n",
            "415/415 [==============================] - 32s 77ms/step - loss: 1.6204e-04 - accuracy: 1.0000 - val_loss: 0.0036 - val_accuracy: 0.9992\n",
            "Epoch 50/50\n",
            "415/415 [==============================] - 31s 74ms/step - loss: 5.5920e-05 - accuracy: 1.0000 - val_loss: 0.0037 - val_accuracy: 0.9992\n"
          ]
        }
      ],
      "source": [
        "from keras.callbacks import ModelCheckpoint\n",
        "\n",
        "epochs = 50\n",
        "\n",
        "checkpoint_filepath = 'models/model.{epoch:02d}-{val_accuracy:.4f}.h5'\n",
        "model_checkpoint_callback = ModelCheckpoint(\n",
        "    filepath=checkpoint_filepath,\n",
        "    monitor='val_accuracy',\n",
        "    mode='max',\n",
        "    save_best_only=True)\n",
        "\n",
        "history = model.fit(train,\n",
        "                    epochs=epochs,\n",
        "                    validation_data=test,\n",
        "                    callbacks=[model_checkpoint_callback])"
      ]
    },
    {
      "cell_type": "code",
      "execution_count": 49,
      "metadata": {
        "id": "VXA8AcC7VVvO",
        "colab": {
          "base_uri": "https://localhost:8080/",
          "height": 927
        },
        "outputId": "f954e4c2-d9c5-413e-a843-0d8be7903ca5"
      },
      "outputs": [
        {
          "output_type": "display_data",
          "data": {
            "text/plain": [
              "<Figure size 640x480 with 1 Axes>"
            ],
            "image/png": "[encoded data removed]"
          },
          "metadata": {}
        },
        {
          "output_type": "display_data",
          "data": {
            "text/plain": [
              "<Figure size 640x480 with 1 Axes>"
            ],
            "image/png": "[encoded data removed]"
          },
          "metadata": {}
        }
      ],
      "source": [
        "plt.figure(0)\n",
        "plt.plot(history.history['accuracy'], label='training accuracy')\n",
        "plt.plot(history.history['val_accuracy'], label='val accuracy', alpha=0.7)\n",
        "plt.title('Accuracy')\n",
        "plt.xlabel('epochs')\n",
        "plt.ylabel('accuracy')\n",
        "plt.legend()\n",
        "plt.ylim([0, 1])\n",
        "plt.show()\n",
        "\n",
        "plt.figure(1)\n",
        "plt.plot(history.history['loss'], label='training loss')\n",
        "plt.plot(history.history['val_loss'], label='val loss')\n",
        "plt.title('Loss')\n",
        "plt.xlabel('epochs')\n",
        "plt.ylabel('loss')\n",
        "plt.legend()\n",
        "plt.show()"
      ]
    },
    {
      "cell_type": "code",
      "source": [
        "from keras.models import load_model\n",
        "model = model = load_model('models/model.03-0.9998.h5')"
      ],
      "metadata": {
        "id": "DhuLd-0HGzL_"
      },
      "execution_count": 71,
      "outputs": []
    },
    {
      "cell_type": "code",
      "execution_count": 80,
      "metadata": {
        "id": "kT58K4pwVVvO",
        "colab": {
          "base_uri": "https://localhost:8080/"
        },
        "outputId": "8dd22ffd-9b71-436e-a814-0167e0271112"
      },
      "outputs": [
        {
          "output_type": "stream",
          "name": "stdout",
          "text": [
            "47/47 [==============================] - 1s 26ms/step - loss: 0.0019 - accuracy: 0.9998\n",
            "Accuracy: 99.98%\n",
            "Evaluated in 1.2837 s.\n"
          ]
        }
      ],
      "source": [
        "start = time()\n",
        "_, acc = model.evaluate(test)\n",
        "end = time()\n",
        "print(f'Accuracy: {acc:.2%}')\n",
        "print(f'Evaluated in {end - start:.4f} s.')"
      ]
    },
    {
      "cell_type": "code",
      "source": [
        "from keras.backend import set_learning_phase\n",
        "set_learning_phase(0)\n",
        "\n",
        "start = time()\n",
        "model.predict(test)\n",
        "end = time()\n",
        "print(f'Evaluated in {end - start:.4f} s.')"
      ],
      "metadata": {
        "colab": {
          "base_uri": "https://localhost:8080/"
        },
        "id": "zxgqBAvxSdhr",
        "outputId": "a7219c40-a075-4301-8e9e-df5446a9a047"
      },
      "execution_count": 134,
      "outputs": [
        {
          "output_type": "stream",
          "name": "stdout",
          "text": [
            "47/47 [==============================] - 1s 25ms/step\n",
            "Evaluated in 1.2360 s.\n"
          ]
        }
      ]
    }
  ],
  "metadata": {
    "kernelspec": {
      "display_name": "Python 3 (ipykernel)",
      "language": "python",
      "name": "python3"
    },
    "language_info": {
      "codemirror_mode": {
        "name": "ipython",
        "version": 3
      },
      "file_extension": ".py",
      "mimetype": "text/x-python",
      "name": "python",
      "nbconvert_exporter": "python",
      "pygments_lexer": "ipython3",
      "version": "3.9.13"
    },
    "colab": {
      "provenance": []
    }
  },
  "nbformat": 4,
  "nbformat_minor": 0
}