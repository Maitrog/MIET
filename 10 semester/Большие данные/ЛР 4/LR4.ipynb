{
 "cells": [
  {
   "cell_type": "code",
   "execution_count": 2,
   "metadata": {},
   "outputs": [],
   "source": [
    "import pandas as pd\n",
    "import numpy as np\n",
    "import seaborn as sns\n",
    "from sklearn.model_selection import train_test_split\n",
    "from sklearn.preprocessing import LabelEncoder\n",
    "import warnings\n",
    "warnings.filterwarnings(action=\"ignore\")\n",
    "import tensorflow as tf"
   ]
  },
  {
   "cell_type": "code",
   "execution_count": 3,
   "metadata": {},
   "outputs": [
    {
     "data": {
      "text/html": [
       "<div>\n",
       "<style scoped>\n",
       "    .dataframe tbody tr th:only-of-type {\n",
       "        vertical-align: middle;\n",
       "    }\n",
       "\n",
       "    .dataframe tbody tr th {\n",
       "        vertical-align: top;\n",
       "    }\n",
       "\n",
       "    .dataframe thead th {\n",
       "        text-align: right;\n",
       "    }\n",
       "</style>\n",
       "<table border=\"1\" class=\"dataframe\">\n",
       "  <thead>\n",
       "    <tr style=\"text-align: right;\">\n",
       "      <th></th>\n",
       "      <th>review</th>\n",
       "      <th>sentiment</th>\n",
       "    </tr>\n",
       "  </thead>\n",
       "  <tbody>\n",
       "    <tr>\n",
       "      <th>0</th>\n",
       "      <td>Сегодня в очередной раз пересмотрел один из мо...</td>\n",
       "      <td>pos</td>\n",
       "    </tr>\n",
       "    <tr>\n",
       "      <th>1</th>\n",
       "      <td>На фильм попал случайно. Шел просто скоротать ...</td>\n",
       "      <td>pos</td>\n",
       "    </tr>\n",
       "    <tr>\n",
       "      <th>2</th>\n",
       "      <td>Накануне Дня космонавтики на российские экраны...</td>\n",
       "      <td>neu</td>\n",
       "    </tr>\n",
       "    <tr>\n",
       "      <th>3</th>\n",
       "      <td>Моя любимая комедия. На порядок выше голливудс...</td>\n",
       "      <td>pos</td>\n",
       "    </tr>\n",
       "    <tr>\n",
       "      <th>4</th>\n",
       "      <td>Астронавт Чак Бейкер прилетает на неизведанную...</td>\n",
       "      <td>pos</td>\n",
       "    </tr>\n",
       "    <tr>\n",
       "      <th>5</th>\n",
       "      <td>Смотрел этот фильм еще когда он шел в кинотеат...</td>\n",
       "      <td>neu</td>\n",
       "    </tr>\n",
       "    <tr>\n",
       "      <th>6</th>\n",
       "      <td>Недалекое будущее, 1999 год... Довольно странн...</td>\n",
       "      <td>pos</td>\n",
       "    </tr>\n",
       "    <tr>\n",
       "      <th>7</th>\n",
       "      <td>В мире независимого кинематографа фильм станов...</td>\n",
       "      <td>neg</td>\n",
       "    </tr>\n",
       "    <tr>\n",
       "      <th>8</th>\n",
       "      <td>Перед описанием впечатлений от самого фильма о...</td>\n",
       "      <td>pos</td>\n",
       "    </tr>\n",
       "    <tr>\n",
       "      <th>9</th>\n",
       "      <td>Белый, нейтральный цвет этой рецензии говорит ...</td>\n",
       "      <td>neu</td>\n",
       "    </tr>\n",
       "  </tbody>\n",
       "</table>\n",
       "</div>"
      ],
      "text/plain": [
       "                                              review sentiment\n",
       "0  Сегодня в очередной раз пересмотрел один из мо...       pos\n",
       "1  На фильм попал случайно. Шел просто скоротать ...       pos\n",
       "2  Накануне Дня космонавтики на российские экраны...       neu\n",
       "3  Моя любимая комедия. На порядок выше голливудс...       pos\n",
       "4  Астронавт Чак Бейкер прилетает на неизведанную...       pos\n",
       "5  Смотрел этот фильм еще когда он шел в кинотеат...       neu\n",
       "6  Недалекое будущее, 1999 год... Довольно странн...       pos\n",
       "7  В мире независимого кинематографа фильм станов...       neg\n",
       "8  Перед описанием впечатлений от самого фильма о...       pos\n",
       "9  Белый, нейтральный цвет этой рецензии говорит ...       neu"
      ]
     },
     "execution_count": 3,
     "metadata": {},
     "output_type": "execute_result"
    }
   ],
   "source": [
    "df_train = pd.read_csv(\"kp_train.csv\", sep='|')\n",
    "df_test = pd.read_csv(\"kp_valid.csv\", sep='|')\n",
    "df_train.head(10)"
   ]
  },
  {
   "cell_type": "code",
   "execution_count": 5,
   "metadata": {},
   "outputs": [
    {
     "data": {
      "text/plain": [
       "(57000, 2)"
      ]
     },
     "execution_count": 5,
     "metadata": {},
     "output_type": "execute_result"
    }
   ],
   "source": [
    "df_train.shape"
   ]
  },
  {
   "cell_type": "code",
   "execution_count": 6,
   "metadata": {},
   "outputs": [
    {
     "data": {
      "text/plain": [
       "review       0\n",
       "sentiment    0\n",
       "dtype: int64"
      ]
     },
     "execution_count": 6,
     "metadata": {},
     "output_type": "execute_result"
    }
   ],
   "source": [
    "df_train.isna().sum()"
   ]
  },
  {
   "cell_type": "code",
   "execution_count": 4,
   "metadata": {},
   "outputs": [
    {
     "data": {
      "text/html": [
       "<div>\n",
       "<style scoped>\n",
       "    .dataframe tbody tr th:only-of-type {\n",
       "        vertical-align: middle;\n",
       "    }\n",
       "\n",
       "    .dataframe tbody tr th {\n",
       "        vertical-align: top;\n",
       "    }\n",
       "\n",
       "    .dataframe thead th {\n",
       "        text-align: right;\n",
       "    }\n",
       "</style>\n",
       "<table border=\"1\" class=\"dataframe\">\n",
       "  <thead>\n",
       "    <tr style=\"text-align: right;\">\n",
       "      <th></th>\n",
       "      <th>review</th>\n",
       "      <th>sentiment</th>\n",
       "    </tr>\n",
       "  </thead>\n",
       "  <tbody>\n",
       "    <tr>\n",
       "      <th>0</th>\n",
       "      <td>Сегодня в очередной раз пересмотрел один из мо...</td>\n",
       "      <td>2</td>\n",
       "    </tr>\n",
       "    <tr>\n",
       "      <th>1</th>\n",
       "      <td>На фильм попал случайно. Шел просто скоротать ...</td>\n",
       "      <td>2</td>\n",
       "    </tr>\n",
       "    <tr>\n",
       "      <th>2</th>\n",
       "      <td>Накануне Дня космонавтики на российские экраны...</td>\n",
       "      <td>1</td>\n",
       "    </tr>\n",
       "    <tr>\n",
       "      <th>3</th>\n",
       "      <td>Моя любимая комедия. На порядок выше голливудс...</td>\n",
       "      <td>2</td>\n",
       "    </tr>\n",
       "    <tr>\n",
       "      <th>4</th>\n",
       "      <td>Астронавт Чак Бейкер прилетает на неизведанную...</td>\n",
       "      <td>2</td>\n",
       "    </tr>\n",
       "  </tbody>\n",
       "</table>\n",
       "</div>"
      ],
      "text/plain": [
       "                                              review  sentiment\n",
       "0  Сегодня в очередной раз пересмотрел один из мо...          2\n",
       "1  На фильм попал случайно. Шел просто скоротать ...          2\n",
       "2  Накануне Дня космонавтики на российские экраны...          1\n",
       "3  Моя любимая комедия. На порядок выше голливудс...          2\n",
       "4  Астронавт Чак Бейкер прилетает на неизведанную...          2"
      ]
     },
     "execution_count": 4,
     "metadata": {},
     "output_type": "execute_result"
    }
   ],
   "source": [
    "le = LabelEncoder()\n",
    "df_train[\"sentiment\"] = le.fit_transform(df_train[\"sentiment\"])\n",
    "df_test[\"sentiment\"] = le.fit_transform(df_test[\"sentiment\"])\n",
    "df_train.head()"
   ]
  },
  {
   "cell_type": "code",
   "execution_count": 8,
   "metadata": {},
   "outputs": [
    {
     "data": {
      "text/plain": [
       "array([2, 1, 0])"
      ]
     },
     "execution_count": 8,
     "metadata": {},
     "output_type": "execute_result"
    }
   ],
   "source": [
    "df_train.sentiment.unique()"
   ]
  },
  {
   "cell_type": "code",
   "execution_count": 11,
   "metadata": {},
   "outputs": [
    {
     "data": {
      "text/plain": [
       "<Axes: xlabel='sentiment', ylabel='count'>"
      ]
     },
     "execution_count": 11,
     "metadata": {},
     "output_type": "execute_result"
    },
    {
     "data": {
      "image/png": "[encoded data removed]",
      "text/plain": [
       "<Figure size 640x480 with 1 Axes>"
      ]
     },
     "metadata": {},
     "output_type": "display_data"
    }
   ],
   "source": [
    "sns.countplot(df_train[\"sentiment\"])\n",
    "sns.countplot(df_test[\"sentiment\"])\n"
   ]
  },
  {
   "cell_type": "code",
   "execution_count": 5,
   "metadata": {},
   "outputs": [],
   "source": [
    "def standardize_text(df, content_field):\n",
    "    df[content_field] = df[content_field].str.replace(r\"http\\S+\", \"\")\n",
    "    df[content_field] = df[content_field].str.replace(r\"http\", \"\")\n",
    "    df[content_field] = df[content_field].str.replace(r\"@\\S+\", \"\")\n",
    "    df[content_field] = df[content_field].str.replace(r\"[^А-Яа-яA-Za-z0-9(),!?@\\'\\`\\\"\\_\\n]\", \" \")\n",
    "    df[content_field] = df[content_field].str.replace(r\"@\", \"at\")\n",
    "    df[content_field] = df[content_field].str.lower()\n",
    "    return df"
   ]
  },
  {
   "cell_type": "code",
   "execution_count": 6,
   "metadata": {},
   "outputs": [
    {
     "data": {
      "text/html": [
       "<div>\n",
       "<style scoped>\n",
       "    .dataframe tbody tr th:only-of-type {\n",
       "        vertical-align: middle;\n",
       "    }\n",
       "\n",
       "    .dataframe tbody tr th {\n",
       "        vertical-align: top;\n",
       "    }\n",
       "\n",
       "    .dataframe thead th {\n",
       "        text-align: right;\n",
       "    }\n",
       "</style>\n",
       "<table border=\"1\" class=\"dataframe\">\n",
       "  <thead>\n",
       "    <tr style=\"text-align: right;\">\n",
       "      <th></th>\n",
       "      <th>review</th>\n",
       "      <th>sentiment</th>\n",
       "    </tr>\n",
       "  </thead>\n",
       "  <tbody>\n",
       "    <tr>\n",
       "      <th>0</th>\n",
       "      <td>странный фильм  такие фильмы умеют снимать тол...</td>\n",
       "      <td>2</td>\n",
       "    </tr>\n",
       "    <tr>\n",
       "      <th>1</th>\n",
       "      <td>фильм великолепен! но мы привыкли придерживать...</td>\n",
       "      <td>2</td>\n",
       "    </tr>\n",
       "    <tr>\n",
       "      <th>2</th>\n",
       "      <td>фильм снят по мотивам бестселлера датской писа...</td>\n",
       "      <td>1</td>\n",
       "    </tr>\n",
       "    <tr>\n",
       "      <th>3</th>\n",
       "      <td>шучу   феноменальный сериал, он демонстрирует ...</td>\n",
       "      <td>2</td>\n",
       "    </tr>\n",
       "    <tr>\n",
       "      <th>4</th>\n",
       "      <td>благодаря потрясающей оригинальной музыке найм...</td>\n",
       "      <td>2</td>\n",
       "    </tr>\n",
       "    <tr>\n",
       "      <th>...</th>\n",
       "      <td>...</td>\n",
       "      <td>...</td>\n",
       "    </tr>\n",
       "    <tr>\n",
       "      <th>1495</th>\n",
       "      <td>когда создателям фильмов не хватает таланта, э...</td>\n",
       "      <td>1</td>\n",
       "    </tr>\n",
       "    <tr>\n",
       "      <th>1496</th>\n",
       "      <td>может, в воспитательном плане мультфильм в нек...</td>\n",
       "      <td>2</td>\n",
       "    </tr>\n",
       "    <tr>\n",
       "      <th>1497</th>\n",
       "      <td>алекс кросс   чувак, что надо  в качестве дете...</td>\n",
       "      <td>1</td>\n",
       "    </tr>\n",
       "    <tr>\n",
       "      <th>1498</th>\n",
       "      <td>сразу скажу   мультфильм совершенно дурацкий  ...</td>\n",
       "      <td>2</td>\n",
       "    </tr>\n",
       "    <tr>\n",
       "      <th>1499</th>\n",
       "      <td>про страну чудес зрительская аудитория 'однажд...</td>\n",
       "      <td>1</td>\n",
       "    </tr>\n",
       "  </tbody>\n",
       "</table>\n",
       "<p>1500 rows × 2 columns</p>\n",
       "</div>"
      ],
      "text/plain": [
       "                                                 review  sentiment\n",
       "0     странный фильм  такие фильмы умеют снимать тол...          2\n",
       "1     фильм великолепен! но мы привыкли придерживать...          2\n",
       "2     фильм снят по мотивам бестселлера датской писа...          1\n",
       "3     шучу   феноменальный сериал, он демонстрирует ...          2\n",
       "4     благодаря потрясающей оригинальной музыке найм...          2\n",
       "...                                                 ...        ...\n",
       "1495  когда создателям фильмов не хватает таланта, э...          1\n",
       "1496  может, в воспитательном плане мультфильм в нек...          2\n",
       "1497  алекс кросс   чувак, что надо  в качестве дете...          1\n",
       "1498  сразу скажу   мультфильм совершенно дурацкий  ...          2\n",
       "1499  про страну чудес зрительская аудитория 'однажд...          1\n",
       "\n",
       "[1500 rows x 2 columns]"
      ]
     },
     "execution_count": 6,
     "metadata": {},
     "output_type": "execute_result"
    }
   ],
   "source": [
    "standardize_text(df_train,\"review\")\n",
    "standardize_text(df_test,\"review\")"
   ]
  },
  {
   "cell_type": "code",
   "execution_count": null,
   "metadata": {},
   "outputs": [],
   "source": [
    "import re\n",
    "import string\n",
    "import nltk\n",
    "nltk.download('stopwords')\n",
    "nltk.download('wordnet')\n",
    "from nltk.corpus import stopwords\n",
    "from nltk.stem.wordnet import WordNetLemmatizer"
   ]
  },
  {
   "cell_type": "code",
   "execution_count": null,
   "metadata": {},
   "outputs": [],
   "source": [
    "lemmatizer=WordNetLemmatizer()\n",
    "corpus = []\n",
    "for i in range(0,len(df_train)):\n",
    "    review = re.sub('[^a-zA-Z]', ' ', df_train['review'][i])\n",
    "    review = review.split()\n",
    "    review=[word for word in review if not word in set(stopwords.words('russian'))]\n",
    "    review = [lemmatizer.lemmatize(word) for word in review]\n",
    "    review=' '.join(review)\n",
    "    corpus.append(review)"
   ]
  },
  {
   "cell_type": "code",
   "execution_count": 47,
   "metadata": {},
   "outputs": [
    {
     "name": "stdout",
     "output_type": "stream",
     "text": [
      "0        сегодня в очередной раз пересмотрел один из мо...\n",
      "1        на фильм попал случайно  шел просто скоротать ...\n",
      "2        накануне дня космонавтики на российские экраны...\n",
      "3        моя любимая комедия  на порядок выше голливудс...\n",
      "4        астронавт чак бейкер прилетает на неизведанную...\n",
      "                               ...                        \n",
      "58495    когда создателям фильмов не хватает таланта, э...\n",
      "58496    может, в воспитательном плане мультфильм в нек...\n",
      "58497    алекс кросс   чувак, что надо  в качестве дете...\n",
      "58498    сразу скажу   мультфильм совершенно дурацкий  ...\n",
      "58499    про страну чудес зрительская аудитория 'однажд...\n",
      "Name: review, Length: 58500, dtype: object\n"
     ]
    }
   ],
   "source": [
    "m = pd.concat([df_train['review'], df_test['review']], axis=0, ignore_index=True)\n",
    "print(m)"
   ]
  },
  {
   "cell_type": "code",
   "execution_count": 7,
   "metadata": {},
   "outputs": [],
   "source": [
    "from sklearn.feature_extraction.text import TfidfVectorizer\n",
    "tfidf = TfidfVectorizer(ngram_range=(1, 3))\n",
    "tfidf.fit(pd.concat([df_train['review'], df_test['review']], axis=0, ignore_index=True))\n",
    "X_train = tfidf.transform(df_train['review'])\n",
    "y_train = df_train[\"sentiment\"]\n",
    "\n",
    "X_test = tfidf.transform(df_test['review'])\n",
    "y_test = df_test[\"sentiment\"]"
   ]
  },
  {
   "cell_type": "code",
   "execution_count": 32,
   "metadata": {},
   "outputs": [
    {
     "name": "stdout",
     "output_type": "stream",
     "text": [
      "0       2\n",
      "1       2\n",
      "2       1\n",
      "3       2\n",
      "4       2\n",
      "       ..\n",
      "1495    1\n",
      "1496    2\n",
      "1497    1\n",
      "1498    2\n",
      "1499    1\n",
      "Name: sentiment, Length: 1500, dtype: int32\n"
     ]
    }
   ],
   "source": [
    "print(y_test)"
   ]
  },
  {
   "cell_type": "code",
   "execution_count": 31,
   "metadata": {},
   "outputs": [
    {
     "name": "stdout",
     "output_type": "stream",
     "text": [
      "  (0, 309097)\t0.042537395192509785\n",
      "  (0, 111328)\t0.042537395192509785\n",
      "  (0, 799615)\t0.042537395192509785\n",
      "  (0, 111332)\t0.042537395192509785\n",
      "  (0, 599775)\t0.042537395192509785\n",
      "  (0, 347340)\t0.042537395192509785\n",
      "  (0, 564257)\t0.042537395192509785\n",
      "  (0, 755606)\t0.042537395192509785\n",
      "  (0, 677740)\t0.042537395192509785\n",
      "  (0, 430054)\t0.042537395192509785\n",
      "  (0, 718131)\t0.042537395192509785\n",
      "  (0, 338805)\t0.042537395192509785\n",
      "  (0, 799903)\t0.042537395192509785\n",
      "  (0, 391912)\t0.042537395192509785\n",
      "  (0, 415772)\t0.042537395192509785\n",
      "  (0, 448972)\t0.042537395192509785\n",
      "  (0, 277167)\t0.042537395192509785\n",
      "  (0, 128428)\t0.042537395192509785\n",
      "  (0, 809282)\t0.042537395192509785\n",
      "  (0, 254029)\t0.042537395192509785\n",
      "  (0, 693089)\t0.042537395192509785\n",
      "  (0, 799852)\t0.042537395192509785\n",
      "  (0, 742421)\t0.042537395192509785\n",
      "  (0, 391063)\t0.042537395192509785\n",
      "  (0, 179388)\t0.042537395192509785\n",
      "  :\t:\n",
      "  (1499, 708638)\t0.034120995038479374\n",
      "  (1499, 774688)\t0.010145544165726529\n",
      "  (1499, 243954)\t0.013592098532563112\n",
      "  (1499, 222257)\t0.015980419499342886\n",
      "  (1499, 692129)\t0.009792893538277345\n",
      "  (1499, 147611)\t0.005575729741536494\n",
      "  (1499, 566323)\t0.02520630486046583\n",
      "  (1499, 84875)\t0.030181171741954064\n",
      "  (1499, 350739)\t0.022736435492422536\n",
      "  (1499, 495913)\t0.023507700603065427\n",
      "  (1499, 397691)\t0.011556637113366103\n",
      "  (1499, 608545)\t0.011911197478321686\n",
      "  (1499, 615826)\t0.008210837619078249\n",
      "  (1499, 448181)\t0.036749368151163385\n",
      "  (1499, 77092)\t0.0067842794690304185\n",
      "  (1499, 162666)\t0.010957659704508712\n",
      "  (1499, 248537)\t0.020686514287368587\n",
      "  (1499, 377062)\t0.05442981617340647\n",
      "  (1499, 789140)\t0.060670987071348825\n",
      "  (1499, 771575)\t0.019304106841832397\n",
      "  (1499, 68221)\t0.021987803751974944\n",
      "  (1499, 172190)\t0.008699290127010878\n",
      "  (1499, 399904)\t0.011911197478321686\n",
      "  (1499, 716984)\t0.017657309844417667\n",
      "  (1499, 677690)\t0.01723263380400801\n"
     ]
    }
   ],
   "source": [
    "print(X_test)"
   ]
  },
  {
   "cell_type": "code",
   "execution_count": 49,
   "metadata": {},
   "outputs": [
    {
     "data": {
      "text/plain": [
       "LinearSVC()"
      ]
     },
     "execution_count": 49,
     "metadata": {},
     "output_type": "execute_result"
    }
   ],
   "source": [
    "from sklearn.svm import LinearSVC\n",
    "classifier = LinearSVC()\n",
    "classifier.fit(X_train, y_train)"
   ]
  },
  {
   "cell_type": "code",
   "execution_count": null,
   "metadata": {},
   "outputs": [],
   "source": [
    "y_pred"
   ]
  },
  {
   "cell_type": "code",
   "execution_count": 50,
   "metadata": {},
   "outputs": [
    {
     "data": {
      "text/plain": [
       "array([2, 2, 2, 2, 2])"
      ]
     },
     "execution_count": 50,
     "metadata": {},
     "output_type": "execute_result"
    }
   ],
   "source": [
    "y_pred = classifier.predict(X_test)\n",
    "y_pred[:5]"
   ]
  },
  {
   "cell_type": "code",
   "execution_count": 52,
   "metadata": {},
   "outputs": [
    {
     "name": "stdout",
     "output_type": "stream",
     "text": [
      "              precision    recall  f1-score   support\n",
      "\n",
      "           0       0.80      0.70      0.75       573\n",
      "           1       0.46      0.59      0.52       388\n",
      "           2       0.79      0.73      0.76       539\n",
      "\n",
      "    accuracy                           0.68      1500\n",
      "   macro avg       0.68      0.67      0.67      1500\n",
      "weighted avg       0.71      0.68      0.69      1500\n",
      "\n",
      "Accuracy Score of SVC: 68.13333333333334 %\n"
     ]
    },
    {
     "data": {
      "image/png": "[encoded data removed]",
      "text/plain": [
       "<Figure size 640x480 with 2 Axes>"
      ]
     },
     "metadata": {},
     "output_type": "display_data"
    }
   ],
   "source": [
    "from sklearn.metrics import confusion_matrix, classification_report, accuracy_score\n",
    "acc = accuracy_score(y_pred, y_test)\n",
    "report = classification_report(y_pred, y_test)\n",
    "cm = confusion_matrix(y_pred,y_test)\n",
    "sns.heatmap(cm, annot=True)\n",
    "print(report)\n",
    "print(\"Accuracy Score of SVC:\", acc*100,\"%\")"
   ]
  },
  {
   "cell_type": "code",
   "execution_count": 53,
   "metadata": {},
   "outputs": [],
   "source": [
    "from sklearn.linear_model import LogisticRegression\n",
    "logisticRegression = LogisticRegression(C=10,penalty='l2', solver='newton-cg')\n",
    "logisticRegression.fit(X_train, y_train)\n",
    "y_pred = logisticRegression.predict(X_test)"
   ]
  },
  {
   "cell_type": "code",
   "execution_count": 54,
   "metadata": {},
   "outputs": [
    {
     "name": "stdout",
     "output_type": "stream",
     "text": [
      "              precision    recall  f1-score   support\n",
      "\n",
      "           0       0.76      0.71      0.74       537\n",
      "           1       0.51      0.58      0.54       446\n",
      "           2       0.77      0.74      0.76       517\n",
      "\n",
      "    accuracy                           0.68      1500\n",
      "   macro avg       0.68      0.68      0.68      1500\n",
      "weighted avg       0.69      0.68      0.69      1500\n",
      "\n",
      "Accuracy Score of LogisticRegression: 68.2 %\n"
     ]
    },
    {
     "data": {
      "image/png": "[encoded data removed]",
      "text/plain": [
       "<Figure size 640x480 with 2 Axes>"
      ]
     },
     "metadata": {},
     "output_type": "display_data"
    }
   ],
   "source": [
    "from sklearn.metrics import confusion_matrix, classification_report, accuracy_score\n",
    "acc = accuracy_score(y_pred, y_test)\n",
    "report = classification_report(y_pred, y_test)\n",
    "cm = confusion_matrix(y_pred,y_test)\n",
    "sns.heatmap(cm, annot=True)\n",
    "print(report)\n",
    "print(\"Accuracy Score of LogisticRegression:\", acc*100,\"%\")"
   ]
  },
  {
   "cell_type": "code",
   "execution_count": null,
   "metadata": {},
   "outputs": [],
   "source": [
    "from catboost import CatBoostClassifier\n",
    "catBoostClassifier = CatBoostClassifier(iterations=1_000_00, custom_metric='Accuracy')\n",
    "catBoostClassifier.fit(X_train,\n",
    "          y_train,\n",
    "          eval_set=(X_test, y_test),\n",
    "          early_stopping_rounds=1_000,\n",
    "          plot=True,\n",
    "          verbose=0)\n",
    "y_pred = catBoostClassifier.predict(X_test)"
   ]
  },
  {
   "cell_type": "code",
   "execution_count": 9,
   "metadata": {},
   "outputs": [
    {
     "ename": "NameError",
     "evalue": "name 'y_pred' is not defined",
     "output_type": "error",
     "traceback": [
      "\u001b[1;31m---------------------------------------------------------------------------\u001b[0m",
      "\u001b[1;31mNameError\u001b[0m                                 Traceback (most recent call last)",
      "Cell \u001b[1;32mIn[9], line 2\u001b[0m\n\u001b[0;32m      1\u001b[0m \u001b[38;5;28;01mfrom\u001b[39;00m \u001b[38;5;21;01msklearn\u001b[39;00m\u001b[38;5;21;01m.\u001b[39;00m\u001b[38;5;21;01mmetrics\u001b[39;00m \u001b[38;5;28;01mimport\u001b[39;00m confusion_matrix, classification_report, accuracy_score\n\u001b[1;32m----> 2\u001b[0m acc \u001b[38;5;241m=\u001b[39m accuracy_score(\u001b[43my_pred\u001b[49m, y_test)\n\u001b[0;32m      3\u001b[0m report \u001b[38;5;241m=\u001b[39m classification_report(y_pred, y_test)\n\u001b[0;32m      4\u001b[0m cm \u001b[38;5;241m=\u001b[39m confusion_matrix(y_pred,y_test)\n",
      "\u001b[1;31mNameError\u001b[0m: name 'y_pred' is not defined"
     ]
    }
   ],
   "source": [
    "from sklearn.metrics import confusion_matrix, classification_report, accuracy_score\n",
    "acc = accuracy_score(y_pred, y_test)\n",
    "report = classification_report(y_pred, y_test)\n",
    "cm = confusion_matrix(y_pred,y_test)\n",
    "sns.heatmap(cm, annot=True)\n",
    "print(report)\n",
    "print(\"Accuracy Score of CatBoostClassifier:\", acc*100,\"%\")"
   ]
  }
 ],
 "metadata": {
  "kernelspec": {
   "display_name": "Python 3",
   "language": "python",
   "name": "python3"
  },
  "language_info": {
   "codemirror_mode": {
    "name": "ipython",
    "version": 3
   },
   "file_extension": ".py",
   "mimetype": "text/x-python",
   "name": "python",
   "nbconvert_exporter": "python",
   "pygments_lexer": "ipython3",
   "version": "3.10.8"
  }
 },
 "nbformat": 4,
 "nbformat_minor": 2
}
