{
 "cells": [
  {
   "cell_type": "markdown",
   "metadata": {},
   "source": [
    "# Линейный конгруэнтный метод\n",
    "Линейный конгруэнтный метод был предложен Д.Лемером в 1949 году. Суть метода заключается в вычислении последовательности псевдослучайных чисел **X<sub>n</sub>**, полагая что **X<sub>n+1</sub> = (&alpha;X<sub>n</sub> + c) _mod m_**,\n",
    "где **_m_** – модуль **(_m_ ≥ 2)**, a – множитель **(0 ≤ &alpha; < _m_)**, **c** – приращение **(0 ≤ _c_ < _m_)**, X<sub>0</sub> – начальное значение **(0 ≤ _X<sub>0</sub>_ < _m_)**."
   ]
  },
  {
   "cell_type": "code",
   "execution_count": 159,
   "metadata": {},
   "outputs": [],
   "source": [
    "import pandas as pd\n",
    "import numpy as np\n",
    "import matplotlib.pyplot as plt\n",
    "import scipy.stats as stats\n",
    "import math"
   ]
  },
  {
   "cell_type": "code",
   "execution_count": 93,
   "metadata": {},
   "outputs": [],
   "source": [
    "class LKRandomGenerator:\n",
    "    prevX = 2032307\n",
    "    m = 2**16\n",
    "    c = 1002769\n",
    "    a = 53597\n",
    "    def getNext(self):\n",
    "        LKRandomGenerator.prevX = (self.a*self.prevX+self.c)%self.m\n",
    "        return self.prevX"
   ]
  },
  {
   "cell_type": "code",
   "execution_count": 89,
   "metadata": {},
   "outputs": [],
   "source": [
    "random = LKRandomGenerator()\n",
    "\n",
    "randoms = []\n",
    "for i in range(0,1000000):\n",
    "    randoms.append(random.getNext())"
   ]
  },
  {
   "cell_type": "code",
   "execution_count": 90,
   "metadata": {},
   "outputs": [
    {
     "data": {
      "text/plain": [
       "(array([10004.,  9983., 10016.,  9997., 10002., 10006.,  9995., 10003.,\n",
       "         9973.,  9995., 10000.,  9999., 10013.,  9998., 10002.,  9990.,\n",
       "        10003.,  9998.,  9979., 10005., 10010.,  9975., 10000.,  9993.,\n",
       "         9994., 10008., 10001.,  9996., 10009.,  9989.,  9992., 10006.,\n",
       "         9990.,  9970., 10007.,  9988.,  9996., 10001.,  9974., 10001.,\n",
       "        10016.,  9994., 10019., 10010.,  9985., 10012., 10009.,  9993.,\n",
       "        10014., 10000.,  9996., 10012.,  9990.,  9981., 10006.,  9997.,\n",
       "         9995., 10007., 10017.,  9980., 10009.,  9998., 10020., 10005.,\n",
       "         9989., 10001., 10003.,  9996., 10007.,  9987.,  9977., 10010.,\n",
       "         9997.,  9980., 10000., 10001.,  9997., 10006., 10003.,  9995.,\n",
       "        10007., 10002., 10007., 10034., 10012., 10009., 10000.,  9985.,\n",
       "        10022.,  9997., 10002.,  9999.,  9989.,  9991., 10009., 10014.,\n",
       "        10000., 10037., 10004., 10005.]),\n",
       " array([    0.  ,   655.35,  1310.7 ,  1966.05,  2621.4 ,  3276.75,\n",
       "         3932.1 ,  4587.45,  5242.8 ,  5898.15,  6553.5 ,  7208.85,\n",
       "         7864.2 ,  8519.55,  9174.9 ,  9830.25, 10485.6 , 11140.95,\n",
       "        11796.3 , 12451.65, 13107.  , 13762.35, 14417.7 , 15073.05,\n",
       "        15728.4 , 16383.75, 17039.1 , 17694.45, 18349.8 , 19005.15,\n",
       "        19660.5 , 20315.85, 20971.2 , 21626.55, 22281.9 , 22937.25,\n",
       "        23592.6 , 24247.95, 24903.3 , 25558.65, 26214.  , 26869.35,\n",
       "        27524.7 , 28180.05, 28835.4 , 29490.75, 30146.1 , 30801.45,\n",
       "        31456.8 , 32112.15, 32767.5 , 33422.85, 34078.2 , 34733.55,\n",
       "        35388.9 , 36044.25, 36699.6 , 37354.95, 38010.3 , 38665.65,\n",
       "        39321.  , 39976.35, 40631.7 , 41287.05, 41942.4 , 42597.75,\n",
       "        43253.1 , 43908.45, 44563.8 , 45219.15, 45874.5 , 46529.85,\n",
       "        47185.2 , 47840.55, 48495.9 , 49151.25, 49806.6 , 50461.95,\n",
       "        51117.3 , 51772.65, 52428.  , 53083.35, 53738.7 , 54394.05,\n",
       "        55049.4 , 55704.75, 56360.1 , 57015.45, 57670.8 , 58326.15,\n",
       "        58981.5 , 59636.85, 60292.2 , 60947.55, 61602.9 , 62258.25,\n",
       "        62913.6 , 63568.95, 64224.3 , 64879.65, 65535.  ]),\n",
       " <BarContainer object of 100 artists>)"
      ]
     },
     "execution_count": 90,
     "metadata": {},
     "output_type": "execute_result"
    },
    {
     "data": {
      "image/png": "[encoded data removed]",
      "text/plain": [
       "<Figure size 640x480 with 1 Axes>"
      ]
     },
     "metadata": {},
     "output_type": "display_data"
    }
   ],
   "source": [
    "plt.hist(randoms, bins=100)"
   ]
  },
  {
   "cell_type": "code",
   "execution_count": 91,
   "metadata": {},
   "outputs": [
    {
     "name": "stdout",
     "output_type": "stream",
     "text": [
      "Период генератора  65536\n"
     ]
    }
   ],
   "source": [
    "first = randoms[0]\n",
    "index = randoms.index(first, 1)\n",
    "print(\"Период генератора \", index)"
   ]
  },
  {
   "cell_type": "markdown",
   "metadata": {},
   "source": [
    "Можно заметить, что период генертора равен модулю, так происходит, потому что при создании генератора были использованы простые числа в качестве остальных параметров."
   ]
  },
  {
   "cell_type": "markdown",
   "metadata": {},
   "source": [
    "# Генератор нормально распределённых случайных чисел \n",
    "Нормальное распределение, также называемое распределением Гаусса.\n",
    "\n",
    "Важное значение нормального распределения вытекает из центральной предельной теоремы теории вероятностей. \n",
    "\n",
    "Для программного генерирования нормально распределённых псевдослучайных величин можно использовать преобразование Бокса-Мюллера. Оно позволяет сгенерировать две нормально распределённые величины на базе двух равномерно распределённых.\n",
    "\n",
    "Пусть X и Y— независимые случайные величины, равномерно распределённые на отрезке [−1,1]. Вычислим  S= X^2+Y^2. Если окажется, что S > 1или S = 0, то значения X и Y следует «выбросить» и сгенерировать заново. Когда будет выполнено условие,            0 < S ≤ 1 , X и Y будут координатами случайного вектора, равномерно распределённого в круге с центром в начале координат и с радиусом 1. Далее расчитаем по формулам Z_1 и Z_2:\n",
    "$$Z_1=X\\sqrt{\\frac{-2lnS}{S}}$$\n",
    "\n",
    "$$Z_2=Y\\sqrt{\\frac{-2lnS}{S}}$$\n"
   ]
  },
  {
   "cell_type": "markdown",
   "metadata": {},
   "source": [
    "Z_1 и Z_2 будут независимы и распределены нормально с матожиданием 0 и дисперсией 1."
   ]
  },
  {
   "cell_type": "code",
   "execution_count": 131,
   "metadata": {},
   "outputs": [],
   "source": [
    "class NormRandomGenerator:\n",
    "    random = LKRandomGenerator()\n",
    "    m = random.m / 2\n",
    "    Z2 = -1\n",
    "    def getNext(self):\n",
    "        if(self.Z2 != -1):\n",
    "            Z = self.Z2\n",
    "            NormRandomGenerator.Z2 = -1\n",
    "            return Z\n",
    "        \n",
    "        S, X, Y = self.getS()\n",
    "        Z1 = X * np.sqrt(-2 * np.log(S) / S)\n",
    "        NormRandomGenerator.Z2 = Y * np.sqrt(-2 * np.log(S) / S)\n",
    "        return Z1\n",
    "    \n",
    "    def getS(self):\n",
    "        X = (self.random.getNext() - self.m) / self.m\n",
    "        Y = (self.random.getNext() - self.m) / self.m\n",
    "        S = X**2 + Y**2\n",
    "        if S > 1 or S <= 0:\n",
    "            S, X, Y = self.getS()\n",
    "        return (S, X, Y)"
   ]
  },
  {
   "cell_type": "code",
   "execution_count": 132,
   "metadata": {},
   "outputs": [],
   "source": [
    "normRandom = NormRandomGenerator()"
   ]
  },
  {
   "cell_type": "code",
   "execution_count": 170,
   "metadata": {},
   "outputs": [],
   "source": [
    "normRandoms = []\n",
    "counts = 1000000\n",
    "for i in range(0,counts):\n",
    "    normRandoms.append(normRandom.getNext())"
   ]
  },
  {
   "cell_type": "code",
   "execution_count": 171,
   "metadata": {},
   "outputs": [
    {
     "data": {
      "text/plain": [
       "[<matplotlib.lines.Line2D at 0x2978049f880>]"
      ]
     },
     "execution_count": 171,
     "metadata": {},
     "output_type": "execute_result"
    },
    {
     "data": {
      "image/png": "[encoded data removed]",
      "text/plain": [
       "<Figure size 640x480 with 1 Axes>"
      ]
     },
     "metadata": {},
     "output_type": "display_data"
    }
   ],
   "source": [
    "fig, ax = plt.subplots()\n",
    "n_bins = 100\n",
    "ax.hist(normRandoms, bins=n_bins)\n",
    "\n",
    "mu = 0\n",
    "variance = 1\n",
    "sigma = math.sqrt(variance)\n",
    "x = np.linspace(mu - 3*sigma, mu + 3*sigma, 100)\n",
    "ax.plot(x, stats.norm.pdf(x, mu, sigma) * 100000)"
   ]
  }
 ],
 "metadata": {
  "kernelspec": {
   "display_name": "Python 3",
   "language": "python",
   "name": "python3"
  },
  "language_info": {
   "codemirror_mode": {
    "name": "ipython",
    "version": 3
   },
   "file_extension": ".py",
   "mimetype": "text/x-python",
   "name": "python",
   "nbconvert_exporter": "python",
   "pygments_lexer": "ipython3",
   "version": "3.10.8"
  }
 },
 "nbformat": 4,
 "nbformat_minor": 2
}
