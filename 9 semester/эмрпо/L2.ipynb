{
  "cells": [
    {
      "cell_type": "code",
      "execution_count": null,
      "metadata": {
        "colab": {
          "base_uri": "https://localhost:8080/"
        },
        "id": "jFVLKJD0Fk0h",
        "outputId": "bc23986e-4014-474a-b5a2-25ab86374896"
      },
      "outputs": [
        {
          "name": "stdout",
          "output_type": "stream",
          "text": [
            "Sorted array\n",
            "11 , 12 , 22 , 25 , 64 , "
          ]
        }
      ],
      "source": [
        "# 1.\tНаписать программу (в виде псевдокода или на произвольном языке программирования) для реккурентного алгоритма.\n",
        "# 2.\tДоказать инвариант цикла.\n",
        "# https://www.geeksforgeeks.org/selection-sort/\n",
        "\n",
        "import sys\n",
        "A = [64, 25, 12, 22, 11]\n",
        "\n",
        "# Traverse through all array elements\n",
        "for i in range(len(A)):\n",
        "\n",
        "    # Find the minimum element in remaining\n",
        "    # unsorted array\n",
        "    min_idx = i\n",
        "    for j in range(i+1, len(A)):\n",
        "        if A[min_idx] > A[j]:\n",
        "            min_idx = j\n",
        "\n",
        "    # Swap the found minimum element with\n",
        "    # the first element\n",
        "    A[i], A[min_idx] = A[min_idx], A[i]\n",
        "\n",
        "# Driver code to test above\n",
        "print (\"Sorted array\")\n",
        "for i in range(len(A)):\n",
        "    print(\"%d\" %A[i],end=\" , \")"
      ]
    },
    {
      "cell_type": "code",
      "execution_count": null,
      "metadata": {
        "colab": {
          "base_uri": "https://localhost:8080/"
        },
        "id": "ee_PDqN-FymP",
        "outputId": "9ba41cb8-3f23-40dc-da59-3120263e35e4"
      },
      "outputs": [
        {
          "name": "stdout",
          "output_type": "stream",
          "text": [
            "Sorted array\n",
            "11 , 12 , 22 , 25 , 64 , "
          ]
        }
      ],
      "source": [
        "import sys\n",
        "A = [64, 25, 12, 22, 11]\n",
        "\n",
        "# Traverse through all array elements\n",
        "for i in range(len(A)):                  # c1 : n\n",
        "    min_idx = i                          # c2 : n\n",
        "    for j in range(i+1, len(A)):         # c3 : (n - (i + 1)) ~ n\n",
        "        if A[min_idx] > A[j]:            # c4 : (n - (i + 1)) ~ n\n",
        "            min_idx = j                  # c5 : (n - (i + 1)) ~ n\n",
        "\n",
        "    A[i], A[min_idx] = A[min_idx], A[i]  # c6 : n\n",
        "\n",
        "# Driver code to test above\n",
        "print (\"Sorted array\")\n",
        "for i in range(len(A)):\n",
        "    print(\"%d\" %A[i],end=\" , \")"
      ]
    },
    {
      "cell_type": "markdown",
      "metadata": {
        "id": "JELBMbjOKJUG"
      },
      "source": [
        "# Метод анализа алгоритма\n",
        "$ res = c1*n + c2*n + c3*(n * (n - 1)) + c4*(n * (n - 1)) + c5*(n * (n - 1)) + c6*n = c1*n + c2*n + c3*n^2 - c3*n + c4*n^2 - c4*n + c5*n^2 - c5*n + c6*n = n * (c1 + c2 + -c3 - c4 - c5 + c6) + n^2 * (c3 + c4 + c5) $\n",
        "\n",
        "<br>\n",
        "Оценка сложности из арифметической прогрессии:\n",
        "\n",
        "$(n-1)+(n-2) +...+1 = \\sum_{i-1}^{n-1}i$\n",
        "\n",
        " $\\sum_{i= 1}^{n-1}i= \\frac {(n-1)+1}{2} (n-1) = \\frac{1}{2}n(n-1) = \\frac {1}{2}(n^2-n)$"
      ]
    },
    {
      "cell_type": "markdown",
      "metadata": {
        "id": "nrlQ2G1JMfRf"
      },
      "source": [
        "# Метод подстановки\n",
        "Допусти что, верхняя граница рекуррентного соотношения:\n",
        "$T(n) = O(n^2)$\n",
        "\n",
        "Докажем, что $T(n) <= cn^2$, при $с > 0$.\n",
        "\n",
        "Предположим, что верно при $m < n$, где $m = n-1$;\n",
        "\n",
        "Тогда:\n",
        "\n",
        "$T(n-1) <= c*(n-1)^2$ =>\n",
        "\n",
        "$T(n) = T(n-1) <= c(n-1)^2 = cn^2 - 2cn + c = cn^2 - c(2n + 1) <= cn^2$\n",
        "\n",
        "Выполняется при $с >= 1$\n",
        "\n",
        "$T(2) <= 4c^2$\n",
        "\n",
        "Итак, гипотеза $Т(n)  <=  сn^2$  верна при  $n0 = 2$ и с $<= 2$."
      ]
    },
    {
      "cell_type": "markdown",
      "metadata": {
        "id": "jPlkjChcQE9D"
      },
      "source": [
        "# Дерево рекурсий\n",
        "\n",
        "$T(n) = \\sum_{j=1}^{n}\\sum_{j=i}^{n-1}<= n^2 = O(n^2)$"
      ]
    },
    {
      "cell_type": "markdown",
      "metadata": {
        "id": "RmklmMGhUNDc"
      },
      "source": [
        "![image.png](data:image/png;base64,iVBORw0KGgoAAAANSUhEUgAAAQQAAAC7CAYAAACD4+AeAAAAAXNSR0IArs4c6QAAAARnQU1BAACxjwv8YQUAAAAJcEhZcwAADsMAAA7DAcdvqGQAAAuASURBVHhe7d1biE39H8fxCYkQ0jM1NxNXExeUKEQpiitcyMjZnSIXDhcSI5kohRyulEvjkBtz40LhQg9GQzmUQsnpAmGcJ/r9/dasPY+/Z/0+v9l7Zuz1fdb7Vd+nPb/9ZM9n77U+s9ae2a0aV6aXL1+mt8rz+fPn9FZ5Ojs7k6lEpY/pkVMjp2Y1J4UQQE6NnJrVnBRCADk1cmpWc1IIAeTUyKlZzUkhBJBTI6dmNSeFEEBOjZya1ZwUQgA5NXJqVnPW+BvlzNOnTzPXY/P27dvM9dh0dHQkk3VfbCp9TD/k1ENOPVZzcoQQQE6NnJrVnBRCADk1cmpWc1IIAeTUyKlZzUkhBJBTI6dmNSeFEEBOjZya1ZwUQgA5NXJqVnNSCAHk1MipWc1JIQSQUyOnZjUnhRBATo2cmtWcFEIAOTVyalZzUggB5NTIqVnNSSEEkFMjp2Y1J4UQQE6NnJrVnDWlb7yn8/z588z12PhPfmWtx8Z/o36y7otNpY/ph5x6yKnHak4KITDk1ENOPVZzcsoQQE6NnJrVnBRCADk1cmpWc1IIAeTUyKlZzUkhBJBTI6dmNSeFEEBOjZya1ZwUQgA5NXJqVnNSCAHk1MipWc1JIQSQUyOnZjUnhRBATo3XU7Oak0IIIKdGTs1qTgohgJwaOTWrOSmEAHJq5NSs5qQQAsipkVOzmpOLvQaGnHrIqcdqTo4QAsipkVOzmpNCCCCnRk7Nak4KIYCcGjk1qzkphAByauTUrOakEALIqZFTs5qTQgggp0ZOzWpOCiGAnBo5Nas5KYQAcmrk1KzmpBACyKmRU7Oak0IIIKdGTs1qTgohgJwaOTWrOSmEAHJq5NSs5qQQAsipkVOzmpNCCCCnRk7Nas4a/w+UMw8fPsxcj43/WGbWemz8xSv9ZN1XmkePHrkTJ0645cuXu0mTJrm6ujpXU1PDMH06o0ePdg0NDW7OnDluz5497ubNm5nbo5+ebLehqXRf8dPb/dP0EcLHjx+TF2b48OHdL5p/sVatWuW2bdvmmpqaGKZPZufOnW7dunVuwYIFrr6+vnt7W7Rokbt//366Rf7D7BFC8t8y5KUQLl265Gpra5MXZfbs2e7UqVPu06dP6b1A/7p27ZrbsGGDGzJkSLINbtmyJb2nC4UQ0ZeFcOzYseRFmDx5smtra0tXgT/vzZs3buPGjcn2OG/ePPf+/ftknUKI6KtC8O8V+Cd/5cqV7uvXr+kqUF3nzp1zw4YNc1OnTu3eZikEoS8K4fLly27gwIFu2bJlyddAnly5csUNGDDArVixgkKI6W0h+PcH/vrrr+Q0gSMD5NX+/fuTI1j/nhaFIPS2EPw7vf7o4N69e+k9QD5NmzbNjR07tuI3uSkEwZfBly9f3IgRI9z69evTVSC/2tvbk6OElpaWdKU8FILgC6G1tTV5gh88eJCuAvk2Y8YMt3jx4vSr8lAIgi+E1atXu3HjxqUrQP41Nze7oUOHVrTdUwiCL4Tx48e7xsbGdAXIvwsXLiRHtdevX09Xeo5CEHwhjBkzxm3evDldAfLv7t27SSGcP38+Xek5CkHwheCf2AMHDqQrQP69e/cu2W6PHz+ervRcVQvB3yhn/vRFM1+9epU8sUeOHEm+YcAC/7cypR9kWdu1Gi72Knz48IFCgDmlQqhku610X/H+86cMFAIsohAiKAQUCYUQQSGgSCiECAoBRUIhRFAIKBIKIYJCQJFQCBEUAoqEQoigEFAkFEIEhYAioRAiKAQUCYUQQSGgSCiECAoBRWK2EPzHi8sZf726rPXYdHR0ZK7Hxn8Ki0KANaVCOHToUOZ2rabSfcVPb/dPCgHoB2YLIf3+e4xTBiCO9xAiKAQUCYUQQSGgSCiECAoBRUIhRFAIefe32/vzefbPddfs/bmCSlEIERRCnnWVwcKWf17bly0LKYVeoBAiKIQc+3tvxs7fVRJ7aYSKUAgRFII1FEJvUAgRFIIxyVHDQvfLWQTKQCFEUAiGvGxxC38+57++p4DyUAgRFIIRaRnUcK7QKxRCBIVgAGXQZyiECAoh5zhN6FNmC8HfKGe42Kst3X9PUPrpn87/7/j//jsE9E6pELjYa4B/sEpwhNA7XYXwswQWtrjSK1daK50ZdP8/GUNJVIZThggKoTq6dvbff33IEUF/oxAiKITq6D5lSL/uQiH0NwohgkKoDlUI/Dah/1AIERRCdVAI1UEhRFAI1UEhVAeFEEEhVAeFUB0UQgSFUB0UQnVQCBEUAoqEQoigEFAkFEIEhYAioRAiKAQUCYUQQSGgSCiECAoBRWK2EPw/UM48fPgwcz02/mOZWeuxefz4MYUAc0qF0NzcnLldq6l0X/HT2/2TIwSgH3DKEEEhoEgohAgKAUVCIURQCCgSCiGCQkCRUAgRFAKKhEKIoBBQJBRCBIWAIqEQIigEFAmFEEEhoEgohAgKAUVCIURQCCgSCiGCQkCRmC0Ef6Oc4WKvQFypELjYa4B/sEpwhACLOGWIqDRkZ2cnhQCT/HZ79OjR9KueoxAEXwiDBw92u3fvTleA/Hvx4kVSCCdPnkxXeo5CEHwhjBs3zm3YsCFdAfKvvb09KYRLly6lKz1HIQi+EBYsWOBmzZqVrgD5d+LEiaQQ/Jt15aIQBF8IBw8edIMGDXIfP35MV4F8a2xsdJMmTUq/Kg+FIPhCuH37dtK2hw8fTleB/PK/Kh86dKjbtGlTulIeCkHwheBn5syZrq6uzn379i29B8inrVu3ugEDBri7d++mK+WhEIRSIbS1tSVHCceOHUvvAfLHv2fgjw7Wrl2bbLeVoBCEUiF4GzdudCNGjHB37txJvgby5Pv3727+/Pmuvr4+OW2gEIS+KARv+vTprra2llJA7ixZsiQ5ir1169a/tttyUAjC70+s/4OPhoYGN2TIEHf27Nl0FaieZ8+euSlTpiRlcPr06WSNQojoq0Lw3r9/7+bOnZu8AEuXLnXPnz9P7wH+nB8/fiS/+Ro5cqQbPXq0u3r1anqP4UIofeM9Hb/zZa3HpqOjI3M9Nv4b9ZN13759+9yoUaOSN3HWrVvnLl68mIQC+tOTJ0+SbW/ChAnJDyV/quCvqfjrtqm229hUuq/46e3+aboQ/Lx+/do1NTW5iRMnJi8Ow/yJGTNmjFuzZk3y26+s7dJsIaSl12N5OGUI8edyra2t7vjx48lVd7dv356URSWzefPmzPXYVPqYO3bsSCbrvtiQMz69zblr167kE7dnzpxxN27cSLe4sHK2299Vuq94hXwPoaeq+cSWi5xx5IyjEAQ2oDhyakXLSSEEkFMjp2Y1J4UQQE6NnJrVnBRCADk1cmpWc1IIAeTUyKlZzUkhBJBTI6dmNSeFEEBOjZya1ZwUQgA5NXJqVnNSCAHk1MipWc1JIQSQUyOnZjUnhRBATo2cmtWcub/Yq/8Ulp+s+2JTzYtmljvkjA854/Ofv9grP1HiyBlHTq30mBRCADk1cmpWc1IIAeTUyKlZzUkhBJBTI6dmNSeFEEBOjddTs5qTQgggp0ZOzWpOCiGAnBo5Nas5KYQAcmrk1KzmpBACyKmRU7Oak0IIIKdGTs1qTgohgJwaOTWrOSmEAHJq5NSs5qQQAsipkVOzmpNCCCCnRk7Nas4a/w+UM/4qt1nrsfEfy8xaj42/eKWfrPtiU+lj+iGnHnLqsZqTI4QAcmrk1KzmpBACyKmRU7Oak0IIIKdGTs1qTgohgJwaOTWrOSmEAHJq5NSs5qQQAsipkVOzmpNCCCCnRk7Nak4KIYCcGjk1qzkphAByauTUrOakEALIqZFTs5qTQgggp0ZOzWpOCiGAnBo5Nas5KYQAcmrk1Kzm5GKvgSGnHnLqsZqTI4QAcmrk1KzmpBACyKmRU7Oak0IIIKdGTs1qTgohgJwaOTWrOSmEAHJq5NRs5nTufw//BdEvcZ+oAAAAAElFTkSuQmCC)\n",
        "\n",
        "так как в алгоритме нет рекурсии, дерево состоит из одной вершины"
      ]
    },
    {
      "cell_type": "markdown",
      "metadata": {
        "id": "1nBjJlHNZHJB"
      },
      "source": [
        "# Основной метод\n",
        "\n",
        "Для доказательства асимптотической сложности сортировки выбором с использованием основного метода оценки рекуррентных соотношений, мы должны определить рекуррентное соотношение для данного алгоритма.\n",
        "\n",
        "В сортировке выбором, на каждой итерации внешнего цикла, мы находим минимальный элемент в оставшейся части массива и меняем его местами с текущим элементом. Это означает, что на каждой итерации внешнего цикла, мы проходим по оставшейся части массива для поиска минимального элемента.\n",
        "\n",
        "Рекуррентное соотношение для данного алгоритма может быть записано следующим образом:\n",
        "\n",
        "$T(n) = aT(n/b) + f(n)$\n",
        "\n",
        "$n^{log_b a} = n^{log_1 1}$\n",
        "\n",
        "Где $T(n)$ - время выполнения алгоритма для массива размером n."
      ]
    }
  ],
  "metadata": {
    "colab": {
      "provenance": []
    },
    "kernelspec": {
      "display_name": "Python 3",
      "name": "python3"
    },
    "language_info": {
      "name": "python"
    }
  },
  "nbformat": 4,
  "nbformat_minor": 0
}
